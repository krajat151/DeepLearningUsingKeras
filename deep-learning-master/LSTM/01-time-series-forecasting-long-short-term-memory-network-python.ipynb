{
 "cells": [
  {
   "cell_type": "markdown",
   "metadata": {
    "toc": true
   },
   "source": [
    "<h1>Table of Contents<span class=\"tocSkip\"></span></h1>\n",
    "<div class=\"toc\" style=\"margin-top: 1em;\"><ul class=\"toc-item\"><li><span><a href=\"#Time-Series-Forecasting-with-the-Long-Short-Term-Memory-Network-in-Python\" data-toc-modified-id=\"Time-Series-Forecasting-with-the-Long-Short-Term-Memory-Network-in-Python-1\"><span class=\"toc-item-num\">1&nbsp;&nbsp;</span>Time Series Forecasting with the Long Short-Term Memory Network in Python</a></span><ul class=\"toc-item\"><li><span><a href=\"#Shampoo-Sales-Dataset\" data-toc-modified-id=\"Shampoo-Sales-Dataset-1.1\"><span class=\"toc-item-num\">1.1&nbsp;&nbsp;</span><a href=\"https://datamarket.com/data/set/22r0/sales-of-shampoo-over-a-three-year-period\" target=\"_blank\">Shampoo Sales Dataset</a></a></span></li></ul></li><li><span><a href=\"#Experimental-Test-Setup\" data-toc-modified-id=\"Experimental-Test-Setup-2\"><span class=\"toc-item-num\">2&nbsp;&nbsp;</span>Experimental Test Setup</a></span></li><li><span><a href=\"#LSTM-Data-Preparation\" data-toc-modified-id=\"LSTM-Data-Preparation-3\"><span class=\"toc-item-num\">3&nbsp;&nbsp;</span>LSTM Data Preparation</a></span><ul class=\"toc-item\"><li><span><a href=\"#Transform-Time-Series-to-Stationary\" data-toc-modified-id=\"Transform-Time-Series-to-Stationary-3.1\"><span class=\"toc-item-num\">3.1&nbsp;&nbsp;</span>Transform Time Series to Stationary</a></span></li><li><span><a href=\"#Transform-Time-Series-into-Supervised-Learning\" data-toc-modified-id=\"Transform-Time-Series-into-Supervised-Learning-3.2\"><span class=\"toc-item-num\">3.2&nbsp;&nbsp;</span>Transform Time Series into Supervised Learning</a></span></li><li><span><a href=\"#Transform-TimeSeries-to-Scale\" data-toc-modified-id=\"Transform-TimeSeries-to-Scale-3.3\"><span class=\"toc-item-num\">3.3&nbsp;&nbsp;</span>Transform TimeSeries to Scale</a></span></li></ul></li><li><span><a href=\"#LSTM-model-development\" data-toc-modified-id=\"LSTM-model-development-4\"><span class=\"toc-item-num\">4&nbsp;&nbsp;</span>LSTM model development</a></span></li><li><span><a href=\"#LSTM-forecast\" data-toc-modified-id=\"LSTM-forecast-5\"><span class=\"toc-item-num\">5&nbsp;&nbsp;</span>LSTM forecast</a></span></li></ul></div>"
   ]
  },
  {
   "cell_type": "markdown",
   "metadata": {},
   "source": [
    "This notebook originally appeared as a [post](https://machinelearningmastery.com/time-series-forecasting-long-short-term-memory-network-python/) on the [blog Machine Learning Mastery](https://machinelearningmastery.com/blog/)."
   ]
  },
  {
   "cell_type": "markdown",
   "metadata": {},
   "source": [
    "# Time Series Forecasting with the Long Short-Term Memory Network in Python"
   ]
  },
  {
   "cell_type": "markdown",
   "metadata": {},
   "source": [
    "The Long Short-Term Memory recurrent Neural Network has the promise of learning long sequences of observations.\n",
    "\n",
    "It seems a perfect match for time series forecasting, and in fact, it may be.\n",
    "\n",
    "In this notebook, we will discover how to develop an LSTM forecast model for a one-step univariate time series forecasting problem."
   ]
  },
  {
   "cell_type": "markdown",
   "metadata": {},
   "source": [
    "## [Shampoo Sales Dataset](https://datamarket.com/data/set/22r0/sales-of-shampoo-over-a-three-year-period)"
   ]
  },
  {
   "cell_type": "markdown",
   "metadata": {},
   "source": [
    "This dataset describes the monthly number of sales of shampoo over a 3-year period.\n",
    "\n",
    "The units are a sales count and there are 36 observations. The original dataset is credited to Makridakis, Wheelwright, and Hyndman (1998)."
   ]
  },
  {
   "cell_type": "code",
   "execution_count": 1,
   "metadata": {},
   "outputs": [],
   "source": [
    "# Jupyter notebook plotting setup & imports\n",
    "%matplotlib inline\n",
    "import matplotlib.pyplot as plt\n",
    "plt.style.use('seaborn')\n",
    "\n",
    "import pandas as pd\n",
    "import numpy as np"
   ]
  },
  {
   "cell_type": "code",
   "execution_count": 2,
   "metadata": {},
   "outputs": [],
   "source": [
    "# load and plot dataset\n",
    "def parser(x):\n",
    "    return pd.datetime.strptime('190' + x, '%Y-%m')\n",
    "\n",
    "\n",
    "series = pd.read_csv('datasets/sales-of-shampoo-over-a-three-ye.csv', header=0,\n",
    "                     parse_dates=[0], index_col=0, squeeze=True, date_parser=parser)\n",
    "raw_values = series.values"
   ]
  },
  {
   "cell_type": "code",
   "execution_count": 3,
   "metadata": {},
   "outputs": [
    {
     "data": {
      "text/plain": [
       "Month\n",
       "1901-01-01    266.0\n",
       "1901-02-01    145.9\n",
       "1901-03-01    183.1\n",
       "1901-04-01    119.3\n",
       "1901-05-01    180.3\n",
       "Name: Sales of shampoo over a three year period, dtype: float64"
      ]
     },
     "execution_count": 3,
     "metadata": {},
     "output_type": "execute_result"
    }
   ],
   "source": [
    "series.head()"
   ]
  },
  {
   "cell_type": "code",
   "execution_count": 4,
   "metadata": {},
   "outputs": [
    {
     "data": {
      "text/plain": [
       "Month\n",
       "1903-08-01    407.6\n",
       "1903-09-01    682.0\n",
       "1903-10-01    475.3\n",
       "1903-11-01    581.3\n",
       "1903-12-01    646.9\n",
       "Name: Sales of shampoo over a three year period, dtype: float64"
      ]
     },
     "execution_count": 4,
     "metadata": {},
     "output_type": "execute_result"
    }
   ],
   "source": [
    "series.tail()"
   ]
  },
  {
   "cell_type": "code",
   "execution_count": 5,
   "metadata": {},
   "outputs": [
    {
     "data": {
      "text/plain": [
       "<matplotlib.axes._subplots.AxesSubplot at 0x7fecfb9d0908>"
      ]
     },
     "execution_count": 5,
     "metadata": {},
     "output_type": "execute_result"
    },
    {
     "data": {
      "image/png": "[encoded data removed]",
      "text/plain": [
       "<matplotlib.figure.Figure at 0x7fecfb9a5cc0>"
      ]
     },
     "metadata": {},
     "output_type": "display_data"
    }
   ],
   "source": [
    "series.plot()"
   ]
  },
  {
   "cell_type": "markdown",
   "metadata": {},
   "source": [
    "# Experimental Test Setup"
   ]
  },
  {
   "cell_type": "markdown",
   "metadata": {},
   "source": [
    "We will split the shampoo sales dataset into two parts:\n",
    " - a training and\n",
    " - a test set\n",
    " \n",
    "The first two years of data will be taken for the training dataset and the remaining one year will be used for the test set:"
   ]
  },
  {
   "cell_type": "code",
   "execution_count": 6,
   "metadata": {},
   "outputs": [],
   "source": [
    "# split data into train and test\n",
    "X = raw_values\n",
    "train, test = X[:-12], X[-12:]"
   ]
  },
  {
   "cell_type": "markdown",
   "metadata": {},
   "source": [
    "Models will be developed using the training dataset and will make predictions on the test dataset.\n",
    "\n",
    "A rolling forecast scenario will be used, also called walk-forward model validation. \n",
    "\n",
    "Each time step of the step dataset will be walked one at a time. A model will be used to make a forecast for the time step, then the actual expected value from the test set will be taken and made available to the model for the forecast on the next time step.\n",
    "\n",
    "This mimics a real-world scenario where new Shampoo Sales observations would be available each month and used in the forecasting of the following month. \n",
    "\n",
    "Finally, all forecasts on the test dataset will be collected and an error score calculated to summarize the skill of the model. The root mean squared error (RMSE) will be used as it punishes large errors and results in a score that is in the same units as the forecast data, namely monthly shampoo sales."
   ]
  },
  {
   "cell_type": "code",
   "execution_count": 7,
   "metadata": {},
   "outputs": [],
   "source": [
    "history = [x for x in train]\n",
    "predictions = list()\n",
    "for i in range(len(test)):\n",
    "    # Make predictions\n",
    "    predictions.append(history[-1])\n",
    "    \n",
    "    # Observations \n",
    "    history.append(test[i])"
   ]
  },
  {
   "cell_type": "code",
   "execution_count": 8,
   "metadata": {},
   "outputs": [],
   "source": [
    "from sklearn.metrics import mean_squared_error\n",
    "from math import sqrt"
   ]
  },
  {
   "cell_type": "code",
   "execution_count": 9,
   "metadata": {},
   "outputs": [],
   "source": [
    "# Report performance\n",
    "rmse = sqrt(mean_squared_error(test, predictions))"
   ]
  },
  {
   "cell_type": "code",
   "execution_count": 10,
   "metadata": {},
   "outputs": [
    {
     "name": "stdout",
     "output_type": "stream",
     "text": [
      "RMSE: 136.761\n"
     ]
    }
   ],
   "source": [
    "print(\"RMSE: {:.3f}\".format(rmse))"
   ]
  },
  {
   "cell_type": "code",
   "execution_count": 11,
   "metadata": {},
   "outputs": [
    {
     "data": {
      "image/png": "[encoded data removed]",
      "text/plain": [
       "<matplotlib.figure.Figure at 0x7fecf09a83c8>"
      ]
     },
     "metadata": {},
     "output_type": "display_data"
    }
   ],
   "source": [
    "plt.plot(test)\n",
    "plt.plot(predictions)\n",
    "plt.show()"
   ]
  },
  {
   "cell_type": "markdown",
   "metadata": {},
   "source": [
    "# LSTM Data Preparation"
   ]
  },
  {
   "cell_type": "markdown",
   "metadata": {},
   "source": [
    "## Transform Time Series to Stationary\n",
    "\n",
    "The Shampoo Sales dataset is not stationary. This means that there is a structure in the data that is dependent on the time. Specifically, there is an increasing trend in the data. \n",
    "\n",
    "Stationary data is easier to model and will very likely result in more skillful forecasts. \n",
    "\n",
    "The trend can be removed from the observations, then added back to forecasts later to return the prediction to the original scale and calculate a comparable error score. \n",
    "\n",
    "\n",
    "A standary way to remove a trend is by differencing the data. That is the observation from the previous time step (t-1) is subtracted from the current observation (t). This removes the trend and we are left with a difference series, or the changes to the observations from one time step to the next. \n",
    "\n",
    "We can achieve this automatically using the `diff()` function in pandas. Alternatively, we can get finer grained control and write our own function to do this.\n",
    "\n",
    "We also need to invert this process in order to take forecasts made on the differenced series back into their original scale.\n",
    "\n",
    "The function below, called inverse_difference(), inverts this operation.\n"
   ]
  },
  {
   "cell_type": "code",
   "execution_count": 12,
   "metadata": {},
   "outputs": [],
   "source": [
    "# create a differenced series\n",
    "def difference(dataset, interval=1):\n",
    "    diff = list()\n",
    "    for i in range(interval, len(dataset)):\n",
    "        value = dataset[i] - dataset[i - interval]\n",
    "        diff.append(value)\n",
    "    return pd.Series(diff)\n",
    "\n",
    "# invert differenced value\n",
    "def inverse_difference(history, yhat, interval=1):\n",
    "    return yhat + history[-interval]"
   ]
  },
  {
   "cell_type": "code",
   "execution_count": 13,
   "metadata": {},
   "outputs": [],
   "source": [
    "diff_values = difference(raw_values, 1)"
   ]
  },
  {
   "cell_type": "markdown",
   "metadata": {},
   "source": [
    "## Transform Time Series into Supervised Learning"
   ]
  },
  {
   "cell_type": "markdown",
   "metadata": {},
   "source": [
    "The LSTM model in keras assumes that your data is divided into input(X) and output(y) components.\n",
    "\n",
    "For a time series problem, we can achieve this by using the observation from the last time step (t-1) as the input and the observation at the current time step (t) as the output. \n",
    "\n",
    "We can achieve this using the `shift()` function in Pandas that will push all values in a series down by a specified number places. \n",
    "\n",
    "We can the concatenate these two series together to create DataFrame ready for supervised learning. "
   ]
  },
  {
   "cell_type": "code",
   "execution_count": 14,
   "metadata": {},
   "outputs": [],
   "source": [
    "# frame a sequence as a supervised learning problem\n",
    "def timeseries_to_supervised(data, lag=1):\n",
    "    df = pd.DataFrame(data)\n",
    "    columns = [df.shift(i) for i in range(1, lag + 1)]\n",
    "    columns.append(df)\n",
    "    df = pd.concat(columns, axis=1)\n",
    "    df.fillna(0, inplace=True)\n",
    "    return df\n"
   ]
  },
  {
   "cell_type": "code",
   "execution_count": 15,
   "metadata": {},
   "outputs": [],
   "source": [
    "supervised = timeseries_to_supervised(diff_values, 1)\n",
    "supervised_values = supervised.values"
   ]
  },
  {
   "cell_type": "code",
   "execution_count": 16,
   "metadata": {},
   "outputs": [],
   "source": [
    "# split data into train and test-sets\n",
    "train, test = supervised_values[0:-12], supervised_values[-12:]"
   ]
  },
  {
   "cell_type": "markdown",
   "metadata": {},
   "source": [
    "## Transform TimeSeries to Scale "
   ]
  },
  {
   "cell_type": "code",
   "execution_count": 17,
   "metadata": {},
   "outputs": [],
   "source": [
    "from sklearn.preprocessing import MinMaxScaler"
   ]
  },
  {
   "cell_type": "code",
   "execution_count": 18,
   "metadata": {},
   "outputs": [],
   "source": [
    "# transform scale\n",
    "scaler = MinMaxScaler(feature_range=(-1, 1))\n",
    "scaler = scaler.fit(train)\n",
    "\n",
    "# transform train\n",
    "train = train.reshape(train.shape[0], train.shape[1])\n",
    "train_scaled = scaler.transform(train)\n",
    "\n",
    "# transform set\n",
    "test = test.reshape(test.shape[0], test.shape[1])\n",
    "test_scaled = scaler.transform(test)\n"
   ]
  },
  {
   "cell_type": "markdown",
   "metadata": {},
   "source": [
    "Again, we must invert the scale on forecasts to return the values back to the original scale so that the results can be interpreted and a comparable error score can be calculated."
   ]
  },
  {
   "cell_type": "code",
   "execution_count": 19,
   "metadata": {},
   "outputs": [],
   "source": [
    "# inverse scaling for a forecasted value\n",
    "def invert_scale(scaler, X, value):\n",
    "    new_row = [x for x in X] + [value]\n",
    "    array = np.array(new_row)\n",
    "    array = array.reshape(1, len(array))\n",
    "    inverted = scaler.inverse_transform(array)\n",
    "    return inverted[0, -1]"
   ]
  },
  {
   "cell_type": "markdown",
   "metadata": {},
   "source": [
    "# LSTM model development"
   ]
  },
  {
   "cell_type": "markdown",
   "metadata": {},
   "source": [
    "The Long Short-Term Memory network (LSTM) is a type of Recurrent Neural Network (RNN).\n",
    "\n",
    "A benefit of this type of network is that it can learn and remember over long sequences and does not rely on a pre-specified window lagged observation as input.\n",
    "\n",
    "In Keras, this is referred to as stateful, and involves setting the “stateful” argument to “True” when defining an LSTM layer.\n",
    "\n",
    "By default, an LSTM layer in Keras maintains state between data within one batch. A batch of data is a fixed-sized number of rows from the training dataset that defines how many patterns to process before updating the weights of the network. State in the LSTM layer between batches is cleared by default, therefore we must make the LSTM stateful. This gives us fine-grained control over when state of the LSTM layer is cleared, by calling the reset_states() function.\n",
    "\n",
    "The LSTM layer expects input to be in a matrix with the dimensions: `[samples, time steps, features]`.\n",
    "\n",
    "   - Samples: These are independent observations from the domain, typically rows of data.\n",
    "   - Time steps: These are separate time steps of a given variable for a given observation.\n",
    "   - Features: These are separate measures observed at the time of observation.\n",
    "\n",
    "We have some flexibility in how the Shampoo Sales dataset is framed for the network. We will keep it simple and frame the problem as each time step in the original sequence is one separate sample, with one timestep and one feature.\n"
   ]
  },
  {
   "cell_type": "markdown",
   "metadata": {},
   "source": [
    "Once compiled, the model can be fit to the training data. Because the network is stateful, we must control when the internal state is reset. Therefore, we must manually manage the training process one epoch at a time across the desired number of epochs.\n",
    "\n",
    "By default, the samples within an epoch are shuffled prior to being exposed to the network. Again, this is undesirable for the LSTM because we want the network to build up state as it learns across the sequence of observations. We can disable the shuffling of samples by setting “shuffle” to “False“."
   ]
  },
  {
   "cell_type": "code",
   "execution_count": 20,
   "metadata": {},
   "outputs": [
    {
     "name": "stderr",
     "output_type": "stream",
     "text": [
      "Using TensorFlow backend.\n"
     ]
    }
   ],
   "source": [
    "# LSTM Keras model\n",
    "from keras import layers\n",
    "from keras import models\n",
    "\n",
    "\n",
    "def fit_lstm(train, batch_size, iterations, neurons):\n",
    "    X, y = train[:, 0:-1], train[:, -1]\n",
    "    X = X.reshape(X.shape[0], 1, X.shape[1])\n",
    "    model = models.Sequential()\n",
    "    model.add(layers.LSTM(neurons, batch_input_shape=(\n",
    "        batch_size, X.shape[1], X.shape[2]), stateful=True))\n",
    "    model.add(layers.Dense(1))\n",
    "    model.compile(loss='mean_squared_error', optimizer='adam')\n",
    "\n",
    "    model.summary()\n",
    "    for i in range(iterations):\n",
    "        model.fit(X, y, epochs=1, batch_size=batch_size,\n",
    "                  verbose=0, shuffle=False)\n",
    "        model.reset_states()\n",
    "\n",
    "    return model"
   ]
  },
  {
   "cell_type": "code",
   "execution_count": 21,
   "metadata": {
    "scrolled": true
   },
   "outputs": [
    {
     "name": "stdout",
     "output_type": "stream",
     "text": [
      "_________________________________________________________________\n",
      "Layer (type)                 Output Shape              Param #   \n",
      "=================================================================\n",
      "lstm_1 (LSTM)                (1, 1)                    12        \n",
      "_________________________________________________________________\n",
      "dense_1 (Dense)              (1, 1)                    2         \n",
      "=================================================================\n",
      "Total params: 14\n",
      "Trainable params: 14\n",
      "Non-trainable params: 0\n",
      "_________________________________________________________________\n"
     ]
    }
   ],
   "source": [
    "# fit the model\n",
    "lstm_model = fit_lstm(train_scaled, 1, 1500, 1)"
   ]
  },
  {
   "cell_type": "code",
   "execution_count": 22,
   "metadata": {},
   "outputs": [
    {
     "data": {
      "text/plain": [
       "array([[-0.17406714],\n",
       "       [ 0.23249239],\n",
       "       [-0.10359931],\n",
       "       [ 0.212     ],\n",
       "       [-0.40239692],\n",
       "       [-0.07176805],\n",
       "       [-0.47434783],\n",
       "       [-0.08793777],\n",
       "       [-0.10261238],\n",
       "       [ 0.1832145 ],\n",
       "       [-0.83130908],\n",
       "       [ 0.19184673],\n",
       "       [ 0.0953021 ],\n",
       "       [ 0.14698912],\n",
       "       [-0.42975503],\n",
       "       [-0.32643372],\n",
       "       [ 0.20134434],\n",
       "       [-0.49275208],\n",
       "       [ 0.1638484 ],\n",
       "       [-0.50800943],\n",
       "       [-0.0368364 ],\n",
       "       [-0.71722937],\n",
       "       [ 0.19184673]], dtype=float32)"
      ]
     },
     "execution_count": 22,
     "metadata": {},
     "output_type": "execute_result"
    }
   ],
   "source": [
    "# forecast the entire training dataset to build up state for forecasting\n",
    "train_reshaped = train_scaled[:, 0].reshape(len(train_scaled), 1, 1)\n",
    "lstm_model.predict(train_reshaped, batch_size=1)"
   ]
  },
  {
   "cell_type": "markdown",
   "metadata": {},
   "source": [
    "# LSTM forecast\n",
    "\n",
    "Once the LSTM model is fit to the training data, it can be used to make forecasts. \n",
    "\n",
    "Again, we have some flexibility. We can decide to fit the model once on all the training data, then predict each new time step one at at time from the test data (aka **fixed approach**), or we can refit the model or update the model each time step of the test data as new observations from the test data are made available (**dynamic approach**)."
   ]
  },
  {
   "cell_type": "code",
   "execution_count": 23,
   "metadata": {},
   "outputs": [],
   "source": [
    "# forecast using fixed approach\n",
    "def forecast_lstm(model, batch_size, row):\n",
    "    X = row.reshape(1, 1, row.shape[0])\n",
    "    yhat = model.predict(X, batch_size=batch_size)\n",
    "    return yhat[0, 0]"
   ]
  },
  {
   "cell_type": "markdown",
   "metadata": {},
   "source": [
    "A difficulty with neural networks is that they give different results with different starting conditions.\n",
    "\n",
    "One approach might be to fix the random number seed used by Keras to ensure the results are reproducible. Another approach would be to control for the random initial conditions using a different experimental setup.\n",
    "\n",
    "We can repeat the experiment from the previous section multiple times, then take the average RMSE as an indication of how well the configuration would be expected to perform on unseen data on average.\n",
    "\n",
    "This is often called multiple repeats or multiple restarts.\n",
    "\n",
    "We can wrap the model fitting and walk-forward validation in a loop of fixed number of repeats. Each iteration the RMSE of the run can be recorded. We can then summarize the distribution of RMSE scores."
   ]
  },
  {
   "cell_type": "code",
   "execution_count": 28,
   "metadata": {},
   "outputs": [
    {
     "name": "stdout",
     "output_type": "stream",
     "text": [
      "_________________________________________________________________\n",
      "Layer (type)                 Output Shape              Param #   \n",
      "=================================================================\n",
      "lstm_3 (LSTM)                (1, 1)                    12        \n",
      "_________________________________________________________________\n",
      "dense_3 (Dense)              (1, 1)                    2         \n",
      "=================================================================\n",
      "Total params: 14\n",
      "Trainable params: 14\n",
      "Non-trainable params: 0\n",
      "_________________________________________________________________\n",
      "1) Test RMSE: 117.498\n",
      "_________________________________________________________________\n",
      "Layer (type)                 Output Shape              Param #   \n",
      "=================================================================\n",
      "lstm_4 (LSTM)                (1, 1)                    12        \n",
      "_________________________________________________________________\n",
      "dense_4 (Dense)              (1, 1)                    2         \n",
      "=================================================================\n",
      "Total params: 14\n",
      "Trainable params: 14\n",
      "Non-trainable params: 0\n",
      "_________________________________________________________________\n",
      "2) Test RMSE: 99.065\n",
      "_________________________________________________________________\n",
      "Layer (type)                 Output Shape              Param #   \n",
      "=================================================================\n",
      "lstm_5 (LSTM)                (1, 1)                    12        \n",
      "_________________________________________________________________\n",
      "dense_5 (Dense)              (1, 1)                    2         \n",
      "=================================================================\n",
      "Total params: 14\n",
      "Trainable params: 14\n",
      "Non-trainable params: 0\n",
      "_________________________________________________________________\n",
      "3) Test RMSE: 99.281\n",
      "CPU times: user 12min 15s, sys: 45.3 s, total: 13min\n",
      "Wall time: 8min 30s\n"
     ]
    }
   ],
   "source": [
    "%%time \n",
    "# repeat experiment\n",
    "repeats = 3\n",
    "error_scores = list()\n",
    "for r in range(repeats):\n",
    "    # fit the model\n",
    "    lstm_model = fit_lstm(train_scaled, 1, 1500, 1)\n",
    "    # forecast the entire training dataset to build up state for forecasting\n",
    "    train_reshaped = train_scaled[:, 0].reshape(len(train_scaled), 1, 1)\n",
    "    lstm_model.predict(train_reshaped, batch_size=1)\n",
    "    # walk-forward validation on the test data\n",
    "    predictions = list()\n",
    "    for i in range(len(test_scaled)):\n",
    "        # make one-step forecast\n",
    "        X, y = test_scaled[i, 0:-1], test_scaled[i, -1]\n",
    "        yhat = forecast_lstm(lstm_model, 1, X)\n",
    "        # invert scaling\n",
    "        yhat = invert_scale(scaler, X, yhat)\n",
    "        # invert differencing\n",
    "        yhat = inverse_difference(raw_values, yhat, len(test_scaled) + 1 - i)\n",
    "        # store forecast\n",
    "        predictions.append(yhat)\n",
    "    # report performance\n",
    "    rmse = sqrt(mean_squared_error(raw_values[-12:], predictions))\n",
    "    print('%d) Test RMSE: %.3f' % (r + 1, rmse))\n",
    "    error_scores.append(rmse)"
   ]
  },
  {
   "cell_type": "code",
   "execution_count": 25,
   "metadata": {},
   "outputs": [
    {
     "name": "stdout",
     "output_type": "stream",
     "text": [
      "Test RMSE: 120.425\n"
     ]
    }
   ],
   "source": [
    "# report performance\n",
    "rmse = sqrt(mean_squared_error(raw_values[-12:], predictions))\n",
    "print('Test RMSE: %.3f' % rmse)"
   ]
  },
  {
   "cell_type": "code",
   "execution_count": 26,
   "metadata": {},
   "outputs": [
    {
     "data": {
      "image/png": "[encoded data removed]",
      "text/plain": [
       "<matplotlib.figure.Figure at 0x7fecacb3c048>"
      ]
     },
     "metadata": {},
     "output_type": "display_data"
    }
   ],
   "source": [
    "plt.plot(raw_values[-12:])\n",
    "plt.plot(predictions)\n",
    "plt.show()"
   ]
  },
  {
   "cell_type": "code",
   "execution_count": null,
   "metadata": {},
   "outputs": [],
   "source": []
  }
 ],
 "metadata": {
  "kernelspec": {
   "display_name": "Python [conda env:dl-gpu]",
   "language": "python",
   "name": "conda-env-dl-gpu-py"
  },
  "language_info": {
   "codemirror_mode": {
    "name": "ipython",
    "version": 3
   },
   "file_extension": ".py",
   "mimetype": "text/x-python",
   "name": "python",
   "nbconvert_exporter": "python",
   "pygments_lexer": "ipython3",
   "version": "3.6.4"
  },
  "toc": {
   "nav_menu": {},
   "number_sections": true,
   "sideBar": true,
   "skip_h1_title": false,
   "toc_cell": true,
   "toc_position": {},
   "toc_section_display": "block",
   "toc_window_display": true
  }
 },
 "nbformat": 4,
 "nbformat_minor": 2
}
