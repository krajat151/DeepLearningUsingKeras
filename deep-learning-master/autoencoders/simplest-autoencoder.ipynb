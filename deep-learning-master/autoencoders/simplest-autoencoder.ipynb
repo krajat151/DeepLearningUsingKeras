{
 "cells": [
  {
   "cell_type": "markdown",
   "metadata": {
    "toc": "true"
   },
   "source": [
    " # Table of Contents\n",
    "<div class=\"toc\" style=\"margin-top: 1em;\"><ul class=\"toc-item\" id=\"toc-level0\"><li><span><a href=\"http://localhost:8888/notebooks/AutoEncoders/simplest-autoencoder.ipynb#Motivation\" data-toc-modified-id=\"Motivation-1\"><span class=\"toc-item-num\">1&nbsp;&nbsp;</span>Motivation</a></span></li><li><span><a href=\"http://localhost:8888/notebooks/AutoEncoders/simplest-autoencoder.ipynb#Autoencoders\" data-toc-modified-id=\"Autoencoders-2\"><span class=\"toc-item-num\">2&nbsp;&nbsp;</span>Autoencoders</a></span></li><li><span><a href=\"http://localhost:8888/notebooks/AutoEncoders/simplest-autoencoder.ipynb#Cool-theory-bro,-but-what-can-autoencoders-actually-do-for-me?\" data-toc-modified-id=\"Cool-theory-bro,-but-what-can-autoencoders-actually-do-for-me?-3\"><span class=\"toc-item-num\">3&nbsp;&nbsp;</span>Cool theory bro, but what can autoencoders actually do for me?</a></span></li><li><span><a href=\"http://localhost:8888/notebooks/AutoEncoders/simplest-autoencoder.ipynb#Simplest-possible-autoencoder-model\" data-toc-modified-id=\"Simplest-possible-autoencoder-model-4\"><span class=\"toc-item-num\">4&nbsp;&nbsp;</span>Simplest possible autoencoder model</a></span></li><li><span><a href=\"http://localhost:8888/notebooks/AutoEncoders/simplest-autoencoder.ipynb#Encoder-Model\" data-toc-modified-id=\"Encoder-Model-5\"><span class=\"toc-item-num\">5&nbsp;&nbsp;</span>Encoder Model</a></span></li><li><span><a href=\"http://localhost:8888/notebooks/AutoEncoders/simplest-autoencoder.ipynb#Decoder-Model\" data-toc-modified-id=\"Decoder-Model-6\"><span class=\"toc-item-num\">6&nbsp;&nbsp;</span>Decoder Model</a></span></li><li><span><a href=\"http://localhost:8888/notebooks/AutoEncoders/simplest-autoencoder.ipynb#Dataset\" data-toc-modified-id=\"Dataset-7\"><span class=\"toc-item-num\">7&nbsp;&nbsp;</span>Dataset</a></span></li><li><span><a href=\"http://localhost:8888/notebooks/AutoEncoders/simplest-autoencoder.ipynb#Training\" data-toc-modified-id=\"Training-8\"><span class=\"toc-item-num\">8&nbsp;&nbsp;</span>Training</a></span></li><li><span><a href=\"http://localhost:8888/notebooks/AutoEncoders/simplest-autoencoder.ipynb#Helper-function-to-visualize-some-images\" data-toc-modified-id=\"Helper-function-to-visualize-some-images-9\"><span class=\"toc-item-num\">9&nbsp;&nbsp;</span>Helper function to visualize some images</a></span></li><li><span><a href=\"http://localhost:8888/notebooks/AutoEncoders/simplest-autoencoder.ipynb#Adding-a-sparsity-constraint-on-the-encoded-representations\" data-toc-modified-id=\"Adding-a-sparsity-constraint-on-the-encoded-representations-10\"><span class=\"toc-item-num\">10&nbsp;&nbsp;</span>Adding a sparsity constraint on the encoded representations</a></span></li><li><span><a href=\"http://localhost:8888/notebooks/AutoEncoders/simplest-autoencoder.ipynb#Adding-a-sparsity-constraint-on-the-encoded-representations\" data-toc-modified-id=\"Adding-a-sparsity-constraint-on-the-encoded-representations-11\"><span class=\"toc-item-num\">11&nbsp;&nbsp;</span>Adding a sparsity constraint on the encoded representations</a></span></li></ul></div>"
   ]
  },
  {
   "cell_type": "markdown",
   "metadata": {},
   "source": [
    "\n",
    "\n",
    "In the supervised learning landscape, computers learn how to map one vector to another, given enough examples of the mapping. However, not all problems we might want to solve fall into this category. We may wish to:\n",
    "\n",
    "- generate new examples\n",
    "- determine how likely some point is, \n",
    "- handle missing values\n",
    "- take advantage of a large set of unlabeled examples or examples from related tasks.\n",
    "\n",
    "A shortcoming of the current state of the art for industrial applications is that our learning algorithms require large amounts of supervised data to achieve good accuracy. \n",
    "\n",
    "\n",
    "# Motivation\n",
    ">Many deep learning algorithms have been designed to tackle unsupervised learning problems, but none have truly solved the problem in the same way that deep learning has largely solved the supervised learning problem for a wide variety of tasks. A central cause of the difficulties with unsupervised learning is the high dimensionality of the random variables being modeled. This is brings two distinct challenges:\n",
    "- a statistical challenge\n",
    "- a computational challenge\n",
    "\n",
    "[Deep Learning book]() \n",
    "\n",
    "\n",
    "In Unsupervised Leaning problem, we only use the inputs $x^{(t)}$ for learning. Some of the benefits of unsupervised learning include:\n",
    "\n",
    "- To automatically extract meaningful features for your data\n",
    "- To leverage the availability of unlabeled data\n",
    "- To add a data-dependent regularizer to trainings.\n",
    "\n",
    "\n",
    "This post is the first in what I hope to be a series covering a range of unsupervised learning problems."
   ]
  },
  {
   "cell_type": "markdown",
   "metadata": {},
   "source": [
    "# Autoencoders"
   ]
  },
  {
   "cell_type": "markdown",
   "metadata": {},
   "source": [
    "An **autoencoder** is a Feed-forward neural network that is trained to attempt to copy its input to its output. Internally, it has a hidden layer $h$ that describes a code used to represent the input. \n",
    "\n",
    "![](images/autoencoder-1.png)\n",
    "[Source: Hugo Larochelle 's Neural Networks ](http://info.usherbrooke.ca/hlarochelle/neural_networks/content.html)\n",
    "\n",
    "\n",
    "The following is the architecture of an autoencoder:\n",
    "![](http://ufldl.stanford.edu/tutorial/images/Autoencoder636.png)\n",
    "\n",
    "One can observe that the dimensionality of the input is the same as the dimensionality of the output, and essentially what we want is \n",
    "$\\hat x = x$\n",
    "\n",
    "For instance, \n",
    "![](https://blog.keras.io/img/ae/autoencoder_schema.jpg)"
   ]
  },
  {
   "cell_type": "markdown",
   "metadata": {},
   "source": [
    "\"Autoencoding\" is a data compression algorithm where the compression and decompression functions are \n",
    "-  data-specific, \n",
    "-  lossy, and \n",
    "-  learned automatically from examples rather than engineered by a human. \n",
    "-  Additionally, in almost all contexts where the term \"autoencoder\" is used, the compression and decompression functions are implemented with neural networks.\n",
    "\n",
    "\n",
    "\n",
    "1. Autoencoders are data-specific, which means that they will only be able to compress data similar to what they have been trained on. This is different from, say, the MPEG-2 Audio Layer III (MP3) compression algorithm, which only holds assumptions about \"sound\" in general, but not about specific types of sounds. An autoencoder trained on pictures of faces would do a rather poor job of compressing pictures of trees, because the features it would learn would be face-specific.\n",
    "\n",
    "2. Autoencoders are lossy, which means that the decompressed outputs will be degraded compared to the original inputs (similar to MP3 or JPEG compression). This differs from lossless arithmetic compression.\n",
    "\n",
    "3. Autoencoders are learned automatically from data examples, which is a useful property: it means that it is easy to train specialized instances of the algorithm that will perform well on a specific type of input. It doesn't require any new engineering, just appropriate training data.\n",
    "\n",
    "To build an autoencoder, you need three things: an encoding function, a decoding function, and a distance function between the amount of information loss between the compressed representation of your data and the decompressed representation (i.e. a \"loss\" function). The encoder and decoder will be chosen to be parametric functions (typically neural networks), and to be differentiable with respect to the distance function, so the parameters of the encoding/decoding functions can be optimize to minimize the reconstruction loss, using Stochastic Gradient Descent. It's simple! And you don't even need to understand any of these words to start using autoencoders in practice. [keras blog](https://blog.keras.io/building-autoencoders-in-keras.html)"
   ]
  },
  {
   "cell_type": "markdown",
   "metadata": {},
   "source": [
    "# Cool theory bro, but what can autoencoders actually do for me?\n",
    "\n",
    "Good question!\n",
    "\n",
    "Autoencoders can be used for finding a low-dimensional representation of your input data. Why is this useful?\n",
    "\n",
    "Some of your features may be redundant or correlated, resulting in wasted processing time and overfitting in your model (too many parameters).\n",
    "\n",
    "It is thus ideal to only include the features we need.\n",
    "\n",
    "If your “reconstruction” of x is very accurate, that means your low-dimensional representation is good.\n",
    "\n",
    "You can then use this transformation as input into another model."
   ]
  },
  {
   "cell_type": "markdown",
   "metadata": {},
   "source": [
    "# Simplest possible autoencoder model"
   ]
  },
  {
   "cell_type": "code",
   "execution_count": 1,
   "metadata": {
    "ExecuteTime": {
     "end_time": "2017-11-08T01:12:14.091241Z",
     "start_time": "2017-11-08T01:11:53.974262Z"
    }
   },
   "outputs": [
    {
     "name": "stderr",
     "output_type": "stream",
     "text": [
      "Using TensorFlow backend.\n"
     ]
    },
    {
     "data": {
      "text/plain": [
       "<matplotlib.figure.Figure at 0x7fb9ee994128>"
      ]
     },
     "metadata": {},
     "output_type": "display_data"
    }
   ],
   "source": [
    "%matplotlib inline\n",
    "import matplotlib.pyplot as plt\n",
    "plt.figure(figsize=(20, 4))\n",
    "\n",
    "from keras.layers import Input, Dense\n",
    "from keras.models import Model"
   ]
  },
  {
   "cell_type": "code",
   "execution_count": 2,
   "metadata": {
    "ExecuteTime": {
     "end_time": "2017-11-08T01:12:14.098071Z",
     "start_time": "2017-11-08T01:12:14.093305Z"
    }
   },
   "outputs": [],
   "source": [
    "# this is the size of our encoded representations\n",
    "# 32 floats -> compression of factor 24.5, assuming the input is 784 floats\n",
    "encoding_dim = 32\n",
    "# This is our input placeholder\n",
    "input_img = Input(shape=(784, ))"
   ]
  },
  {
   "cell_type": "code",
   "execution_count": 38,
   "metadata": {
    "ExecuteTime": {
     "end_time": "2017-11-08T01:30:00.147769Z",
     "start_time": "2017-11-08T01:30:00.136947Z"
    }
   },
   "outputs": [],
   "source": [
    "def create_autoencoder(activity_regularizer=None):\n",
    "    # \"encoded\" is the encoded representation of the input\n",
    "    encoded = Dense(\n",
    "        encoding_dim,\n",
    "        activation='relu',\n",
    "        activity_regularizer=activity_regularizer)(input_img)\n",
    "    # \"Decoded\" is the lossy reconstruction of the input\n",
    "    decoded = Dense(784, activation='sigmoid')(encoded)\n",
    "    # This model maps an input to its reconstruction\n",
    "    autoencoder = Model(input_img, decoded)\n",
    "    return autoencoder, encoded, decoded"
   ]
  },
  {
   "cell_type": "code",
   "execution_count": 4,
   "metadata": {
    "ExecuteTime": {
     "end_time": "2017-11-08T01:12:14.352476Z",
     "start_time": "2017-11-08T01:12:14.224172Z"
    }
   },
   "outputs": [
    {
     "name": "stdout",
     "output_type": "stream",
     "text": [
      "_________________________________________________________________\n",
      "Layer (type)                 Output Shape              Param #   \n",
      "=================================================================\n",
      "input_1 (InputLayer)         (None, 784)               0         \n",
      "_________________________________________________________________\n",
      "dense_1 (Dense)              (None, 32)                25120     \n",
      "_________________________________________________________________\n",
      "dense_2 (Dense)              (None, 784)               25872     \n",
      "=================================================================\n",
      "Total params: 50,992\n",
      "Trainable params: 50,992\n",
      "Non-trainable params: 0\n",
      "_________________________________________________________________\n"
     ]
    }
   ],
   "source": [
    "autoencoder, encoded, decoded = create_autoencoder()\n",
    "autoencoder.summary()"
   ]
  },
  {
   "cell_type": "markdown",
   "metadata": {},
   "source": [
    "# Encoder Model"
   ]
  },
  {
   "cell_type": "markdown",
   "metadata": {},
   "source": [
    "- This model maps an input to its encoded representation"
   ]
  },
  {
   "cell_type": "code",
   "execution_count": 5,
   "metadata": {
    "ExecuteTime": {
     "end_time": "2017-11-08T01:12:14.412045Z",
     "start_time": "2017-11-08T01:12:14.354387Z"
    }
   },
   "outputs": [],
   "source": [
    "def create_encoder(encoded):\n",
    "    # This model maps an input to its encoded representation\n",
    "    encoder = Model(input_img, encoded)\n",
    "    return encoder\n",
    "    "
   ]
  },
  {
   "cell_type": "code",
   "execution_count": 6,
   "metadata": {
    "ExecuteTime": {
     "end_time": "2017-11-08T01:12:14.523393Z",
     "start_time": "2017-11-08T01:12:14.414062Z"
    }
   },
   "outputs": [],
   "source": [
    "encoder = create_encoder(encoded)"
   ]
  },
  {
   "cell_type": "code",
   "execution_count": 7,
   "metadata": {
    "ExecuteTime": {
     "end_time": "2017-11-08T01:12:14.613810Z",
     "start_time": "2017-11-08T01:12:14.525842Z"
    }
   },
   "outputs": [
    {
     "name": "stdout",
     "output_type": "stream",
     "text": [
      "_________________________________________________________________\n",
      "Layer (type)                 Output Shape              Param #   \n",
      "=================================================================\n",
      "input_1 (InputLayer)         (None, 784)               0         \n",
      "_________________________________________________________________\n",
      "dense_1 (Dense)              (None, 32)                25120     \n",
      "=================================================================\n",
      "Total params: 25,120\n",
      "Trainable params: 25,120\n",
      "Non-trainable params: 0\n",
      "_________________________________________________________________\n"
     ]
    }
   ],
   "source": [
    "encoder.summary()"
   ]
  },
  {
   "cell_type": "markdown",
   "metadata": {},
   "source": [
    "# Decoder Model"
   ]
  },
  {
   "cell_type": "code",
   "execution_count": 8,
   "metadata": {
    "ExecuteTime": {
     "end_time": "2017-11-08T01:12:14.722074Z",
     "start_time": "2017-11-08T01:12:14.615888Z"
    }
   },
   "outputs": [],
   "source": [
    "def create_decoder(autoencoder):\n",
    "    # Create a placeholder for an encoded (32-dimensional) input\n",
    "    encoded_input = Input(shape=(encoding_dim, ))\n",
    "    # Retrieve the last layer of the autoencoder model\n",
    "    decoder_layer = autoencoder.layers[-1]\n",
    "    # Create the decoder model\n",
    "    decoder = Model(encoded_input, decoder_layer(encoded_input))\n",
    "    return decoder"
   ]
  },
  {
   "cell_type": "code",
   "execution_count": 9,
   "metadata": {
    "ExecuteTime": {
     "end_time": "2017-11-08T01:12:14.890980Z",
     "start_time": "2017-11-08T01:12:14.723884Z"
    }
   },
   "outputs": [],
   "source": [
    "decoder = create_decoder(autoencoder)"
   ]
  },
  {
   "cell_type": "code",
   "execution_count": 10,
   "metadata": {
    "ExecuteTime": {
     "end_time": "2017-11-08T01:12:14.979795Z",
     "start_time": "2017-11-08T01:12:14.893746Z"
    }
   },
   "outputs": [
    {
     "name": "stdout",
     "output_type": "stream",
     "text": [
      "_________________________________________________________________\n",
      "Layer (type)                 Output Shape              Param #   \n",
      "=================================================================\n",
      "input_2 (InputLayer)         (None, 32)                0         \n",
      "_________________________________________________________________\n",
      "dense_2 (Dense)              (None, 784)               25872     \n",
      "=================================================================\n",
      "Total params: 25,872\n",
      "Trainable params: 25,872\n",
      "Non-trainable params: 0\n",
      "_________________________________________________________________\n"
     ]
    }
   ],
   "source": [
    "decoder.summary()"
   ]
  },
  {
   "cell_type": "markdown",
   "metadata": {},
   "source": [
    "Now let's train our autoencoder to reconstruct MNIST digits."
   ]
  },
  {
   "cell_type": "markdown",
   "metadata": {},
   "source": [
    "- First, we will configure our model to use a per-pixel binary crossentropy loss, and the Adadelta optimizer:"
   ]
  },
  {
   "cell_type": "code",
   "execution_count": 11,
   "metadata": {
    "ExecuteTime": {
     "end_time": "2017-11-08T01:12:15.103498Z",
     "start_time": "2017-11-08T01:12:15.039165Z"
    }
   },
   "outputs": [],
   "source": [
    "autoencoder.compile(optimizer='adadelta', loss='binary_crossentropy')"
   ]
  },
  {
   "cell_type": "markdown",
   "metadata": {},
   "source": [
    "# Dataset"
   ]
  },
  {
   "cell_type": "markdown",
   "metadata": {},
   "source": [
    "Let's prepare our input data. We're using MNIST digits, and we are discarding the labels (since we are only interested in encoding/decoding the input images)."
   ]
  },
  {
   "cell_type": "code",
   "execution_count": 12,
   "metadata": {
    "ExecuteTime": {
     "end_time": "2017-11-08T01:12:17.379156Z",
     "start_time": "2017-11-08T01:12:17.375190Z"
    }
   },
   "outputs": [],
   "source": [
    "from keras.datasets import mnist\n",
    "import numpy as np"
   ]
  },
  {
   "cell_type": "code",
   "execution_count": 13,
   "metadata": {
    "ExecuteTime": {
     "end_time": "2017-11-08T01:12:18.160728Z",
     "start_time": "2017-11-08T01:12:17.579360Z"
    }
   },
   "outputs": [],
   "source": [
    "(x_train, _), (x_test, _) = mnist.load_data()"
   ]
  },
  {
   "cell_type": "markdown",
   "metadata": {},
   "source": [
    "We will normalize all values between 0 and 1 and we will flatten the 28x28 images into vectors of size 784."
   ]
  },
  {
   "cell_type": "code",
   "execution_count": 14,
   "metadata": {
    "ExecuteTime": {
     "end_time": "2017-11-08T01:12:18.364878Z",
     "start_time": "2017-11-08T01:12:18.246210Z"
    }
   },
   "outputs": [],
   "source": [
    "x_train = x_train.astype('float32') / 255.\n",
    "x_test = x_test.astype('float32') / 255."
   ]
  },
  {
   "cell_type": "code",
   "execution_count": 15,
   "metadata": {
    "ExecuteTime": {
     "end_time": "2017-11-08T01:12:18.396696Z",
     "start_time": "2017-11-08T01:12:18.387850Z"
    }
   },
   "outputs": [
    {
     "data": {
      "text/plain": [
       "60000"
      ]
     },
     "execution_count": 15,
     "metadata": {},
     "output_type": "execute_result"
    }
   ],
   "source": [
    "n_train = len(x_train)\n",
    "n_test = len(x_test)\n",
    "n_train"
   ]
  },
  {
   "cell_type": "code",
   "execution_count": 16,
   "metadata": {
    "ExecuteTime": {
     "end_time": "2017-11-08T01:12:19.982580Z",
     "start_time": "2017-11-08T01:12:19.972864Z"
    }
   },
   "outputs": [
    {
     "data": {
      "text/plain": [
       "784"
      ]
     },
     "execution_count": 16,
     "metadata": {},
     "output_type": "execute_result"
    }
   ],
   "source": [
    "img_flat = np.prod(x_train.shape[1:])\n",
    "img_flat"
   ]
  },
  {
   "cell_type": "code",
   "execution_count": 17,
   "metadata": {
    "ExecuteTime": {
     "end_time": "2017-11-08T01:12:20.358756Z",
     "start_time": "2017-11-08T01:12:20.352703Z"
    }
   },
   "outputs": [],
   "source": [
    "x_train = x_train.reshape((n_train, img_flat))\n",
    "x_test = x_test.reshape(n_test, img_flat)"
   ]
  },
  {
   "cell_type": "code",
   "execution_count": 18,
   "metadata": {
    "ExecuteTime": {
     "end_time": "2017-11-08T01:12:20.547514Z",
     "start_time": "2017-11-08T01:12:20.541411Z"
    }
   },
   "outputs": [
    {
     "data": {
      "text/plain": [
       "(60000, 784)"
      ]
     },
     "execution_count": 18,
     "metadata": {},
     "output_type": "execute_result"
    }
   ],
   "source": [
    "x_train.shape"
   ]
  },
  {
   "cell_type": "code",
   "execution_count": 19,
   "metadata": {
    "ExecuteTime": {
     "end_time": "2017-11-08T01:12:20.718163Z",
     "start_time": "2017-11-08T01:12:20.714039Z"
    }
   },
   "outputs": [
    {
     "data": {
      "text/plain": [
       "(10000, 784)"
      ]
     },
     "execution_count": 19,
     "metadata": {},
     "output_type": "execute_result"
    }
   ],
   "source": [
    "x_test.shape"
   ]
  },
  {
   "cell_type": "markdown",
   "metadata": {},
   "source": [
    "# Training"
   ]
  },
  {
   "cell_type": "markdown",
   "metadata": {},
   "source": [
    "Let's train our autoencoder for 50 epochs"
   ]
  },
  {
   "cell_type": "code",
   "execution_count": 20,
   "metadata": {
    "ExecuteTime": {
     "end_time": "2017-11-08T01:16:14.026483Z",
     "start_time": "2017-11-08T01:12:23.357760Z"
    }
   },
   "outputs": [
    {
     "name": "stdout",
     "output_type": "stream",
     "text": [
      "Train on 60000 samples, validate on 10000 samples\n",
      "Epoch 1/50\n",
      "60000/60000 [==============================] - 4s - loss: 0.3756 - val_loss: 0.2720\n",
      "Epoch 2/50\n",
      "60000/60000 [==============================] - 4s - loss: 0.2642 - val_loss: 0.2535\n",
      "Epoch 3/50\n",
      "60000/60000 [==============================] - 4s - loss: 0.2441 - val_loss: 0.2328\n",
      "Epoch 4/50\n",
      "60000/60000 [==============================] - 4s - loss: 0.2255 - val_loss: 0.2158\n",
      "Epoch 5/50\n",
      "60000/60000 [==============================] - 4s - loss: 0.2102 - val_loss: 0.2022\n",
      "Epoch 6/50\n",
      "60000/60000 [==============================] - 4s - loss: 0.1982 - val_loss: 0.1917\n",
      "Epoch 7/50\n",
      "60000/60000 [==============================] - 4s - loss: 0.1892 - val_loss: 0.1839\n",
      "Epoch 8/50\n",
      "60000/60000 [==============================] - 4s - loss: 0.1822 - val_loss: 0.1777\n",
      "Epoch 9/50\n",
      "60000/60000 [==============================] - 4s - loss: 0.1763 - val_loss: 0.1722\n",
      "Epoch 10/50\n",
      "60000/60000 [==============================] - 4s - loss: 0.1712 - val_loss: 0.1673\n",
      "Epoch 11/50\n",
      "60000/60000 [==============================] - 4s - loss: 0.1667 - val_loss: 0.1631\n",
      "Epoch 12/50\n",
      "60000/60000 [==============================] - 4s - loss: 0.1627 - val_loss: 0.1593\n",
      "Epoch 13/50\n",
      "60000/60000 [==============================] - 4s - loss: 0.1590 - val_loss: 0.1557\n",
      "Epoch 14/50\n",
      "60000/60000 [==============================] - 4s - loss: 0.1556 - val_loss: 0.1524\n",
      "Epoch 15/50\n",
      "60000/60000 [==============================] - 4s - loss: 0.1524 - val_loss: 0.1493\n",
      "Epoch 16/50\n",
      "60000/60000 [==============================] - 4s - loss: 0.1494 - val_loss: 0.1463\n",
      "Epoch 17/50\n",
      "60000/60000 [==============================] - 4s - loss: 0.1465 - val_loss: 0.1436\n",
      "Epoch 18/50\n",
      "60000/60000 [==============================] - 4s - loss: 0.1438 - val_loss: 0.1409\n",
      "Epoch 19/50\n",
      "60000/60000 [==============================] - 4s - loss: 0.1413 - val_loss: 0.1386\n",
      "Epoch 20/50\n",
      "60000/60000 [==============================] - 4s - loss: 0.1389 - val_loss: 0.1361\n",
      "Epoch 21/50\n",
      "60000/60000 [==============================] - 4s - loss: 0.1367 - val_loss: 0.1340\n",
      "Epoch 22/50\n",
      "60000/60000 [==============================] - 4s - loss: 0.1345 - val_loss: 0.1318\n",
      "Epoch 23/50\n",
      "60000/60000 [==============================] - 4s - loss: 0.1324 - val_loss: 0.1299\n",
      "Epoch 24/50\n",
      "60000/60000 [==============================] - 4s - loss: 0.1304 - val_loss: 0.1279\n",
      "Epoch 25/50\n",
      "60000/60000 [==============================] - 4s - loss: 0.1285 - val_loss: 0.1260\n",
      "Epoch 26/50\n",
      "60000/60000 [==============================] - 4s - loss: 0.1267 - val_loss: 0.1243\n",
      "Epoch 27/50\n",
      "60000/60000 [==============================] - 4s - loss: 0.1249 - val_loss: 0.1225\n",
      "Epoch 28/50\n",
      "60000/60000 [==============================] - 4s - loss: 0.1233 - val_loss: 0.1209\n",
      "Epoch 29/50\n",
      "60000/60000 [==============================] - 4s - loss: 0.1217 - val_loss: 0.1194\n",
      "Epoch 30/50\n",
      "60000/60000 [==============================] - 4s - loss: 0.1202 - val_loss: 0.1180\n",
      "Epoch 31/50\n",
      "60000/60000 [==============================] - 4s - loss: 0.1188 - val_loss: 0.1166\n",
      "Epoch 32/50\n",
      "60000/60000 [==============================] - 4s - loss: 0.1175 - val_loss: 0.1154\n",
      "Epoch 33/50\n",
      "60000/60000 [==============================] - 4s - loss: 0.1163 - val_loss: 0.1142\n",
      "Epoch 34/50\n",
      "60000/60000 [==============================] - 4s - loss: 0.1152 - val_loss: 0.1131\n",
      "Epoch 35/50\n",
      "60000/60000 [==============================] - 4s - loss: 0.1141 - val_loss: 0.1121\n",
      "Epoch 36/50\n",
      "60000/60000 [==============================] - 4s - loss: 0.1131 - val_loss: 0.1111\n",
      "Epoch 37/50\n",
      "60000/60000 [==============================] - 4s - loss: 0.1122 - val_loss: 0.1102\n",
      "Epoch 38/50\n",
      "60000/60000 [==============================] - 4s - loss: 0.1114 - val_loss: 0.1094\n",
      "Epoch 39/50\n",
      "60000/60000 [==============================] - 4s - loss: 0.1106 - val_loss: 0.1086\n",
      "Epoch 40/50\n",
      "60000/60000 [==============================] - 4s - loss: 0.1098 - val_loss: 0.1079\n",
      "Epoch 41/50\n",
      "60000/60000 [==============================] - 4s - loss: 0.1091 - val_loss: 0.1072\n",
      "Epoch 42/50\n",
      "60000/60000 [==============================] - 4s - loss: 0.1085 - val_loss: 0.1066\n",
      "Epoch 43/50\n",
      "60000/60000 [==============================] - 4s - loss: 0.1079 - val_loss: 0.1060\n",
      "Epoch 44/50\n",
      "60000/60000 [==============================] - 4s - loss: 0.1073 - val_loss: 0.1054\n",
      "Epoch 45/50\n",
      "60000/60000 [==============================] - 4s - loss: 0.1068 - val_loss: 0.1049\n",
      "Epoch 46/50\n",
      "60000/60000 [==============================] - 4s - loss: 0.1063 - val_loss: 0.1044\n",
      "Epoch 47/50\n",
      "60000/60000 [==============================] - 4s - loss: 0.1058 - val_loss: 0.1040\n",
      "Epoch 48/50\n",
      "60000/60000 [==============================] - 4s - loss: 0.1053 - val_loss: 0.1036\n",
      "Epoch 49/50\n",
      "60000/60000 [==============================] - 4s - loss: 0.1049 - val_loss: 0.1032\n",
      "Epoch 50/50\n",
      "60000/60000 [==============================] - 4s - loss: 0.1045 - val_loss: 0.1028\n"
     ]
    },
    {
     "data": {
      "text/plain": [
       "<keras.callbacks.History at 0x7fb9d310f438>"
      ]
     },
     "execution_count": 20,
     "metadata": {},
     "output_type": "execute_result"
    }
   ],
   "source": [
    "autoencoder.fit(\n",
    "    x_train,\n",
    "    x_train,\n",
    "    epochs=50,\n",
    "    batch_size=256,\n",
    "    shuffle=True,\n",
    "    validation_data=(x_test, x_test))"
   ]
  },
  {
   "cell_type": "markdown",
   "metadata": {},
   "source": [
    "We can try to visualize the reconstructed inputs and the encoded representations."
   ]
  },
  {
   "cell_type": "markdown",
   "metadata": {},
   "source": [
    "- Encode and decode some digits. Note that we take them from the test set."
   ]
  },
  {
   "cell_type": "code",
   "execution_count": 21,
   "metadata": {
    "ExecuteTime": {
     "end_time": "2017-11-08T01:16:14.457679Z",
     "start_time": "2017-11-08T01:16:14.028729Z"
    }
   },
   "outputs": [],
   "source": [
    "encoded_imgs = encoder.predict(x_test)\n",
    "decoded_imgs = decoder.predict(encoded_imgs)"
   ]
  },
  {
   "cell_type": "markdown",
   "metadata": {},
   "source": [
    "# Helper function to visualize some images"
   ]
  },
  {
   "cell_type": "markdown",
   "metadata": {},
   "source": [
    "Here's what we get. The top row is the original digits, and the bottom row is the reconstructed digits. We are losing quite a bit of detail with this basic approach."
   ]
  },
  {
   "cell_type": "code",
   "execution_count": 22,
   "metadata": {
    "ExecuteTime": {
     "end_time": "2017-11-08T01:16:14.480938Z",
     "start_time": "2017-11-08T01:16:14.459700Z"
    }
   },
   "outputs": [],
   "source": [
    "def plot_images(n=10):\n",
    "    for i in range(n):\n",
    "        # display original images\n",
    "        ax = plt.subplot(2, n, i + 1)\n",
    "        plt.imshow(x_test[i].reshape(28, 28))\n",
    "        plt.gray()\n",
    "        ax.get_xaxis().set_visible(False)\n",
    "        ax.get_yaxis().set_visible(False)\n",
    "\n",
    "        # display reconstructed images\n",
    "        ax = plt.subplot(2, n, i + 1 + n)\n",
    "        plt.imshow(decoded_imgs[i].reshape(28, 28))\n",
    "        plt.gray()\n",
    "        ax.get_xaxis().set_visible(False)\n",
    "        ax.get_yaxis().set_visible(False)\n",
    "    plt.show()"
   ]
  },
  {
   "cell_type": "code",
   "execution_count": 23,
   "metadata": {
    "ExecuteTime": {
     "end_time": "2017-11-08T01:16:15.765887Z",
     "start_time": "2017-11-08T01:16:14.483342Z"
    }
   },
   "outputs": [
    {
     "data": {
      "image/png": "[encoded data removed]",
      "text/plain": [
       "<matplotlib.figure.Figure at 0x7fb9d0604400>"
      ]
     },
     "metadata": {},
     "output_type": "display_data"
    }
   ],
   "source": [
    "plot_images()"
   ]
  },
  {
   "cell_type": "markdown",
   "metadata": {},
   "source": [
    "# Adding a sparsity constraint on the encoded representations"
   ]
  },
  {
   "cell_type": "markdown",
   "metadata": {},
   "source": [
    "In the previous example, the representations were only constrained by the size of the hidden layer (32). In such a situation, what typically happens is that the hidden layer is learning an approximation of [PCA (principal component analysis)](https://en.wikipedia.org/wiki/Principal_component_analysis).\n",
    "\n",
    "But, another way to constrain the representations to be compact is to add a sparsity constraint on the activity of the hidden representations, so fewer units would **fire** at a given time. In keras, this can be done by adding an ```activity_regularizer``` to our ```Dense``` layer:"
   ]
  },
  {
   "cell_type": "code",
   "execution_count": 24,
   "metadata": {
    "ExecuteTime": {
     "end_time": "2017-11-08T01:16:22.197307Z",
     "start_time": "2017-11-08T01:16:22.193767Z"
    }
   },
   "outputs": [],
   "source": [
    "from keras import regularizers"
   ]
  },
  {
   "cell_type": "code",
   "execution_count": 25,
   "metadata": {
    "ExecuteTime": {
     "end_time": "2017-11-08T01:16:30.625907Z",
     "start_time": "2017-11-08T01:16:30.621312Z"
    }
   },
   "outputs": [],
   "source": [
    "act_reg = regularizers.l1(10e-5)"
   ]
  },
  {
   "cell_type": "code",
   "execution_count": 37,
   "metadata": {
    "ExecuteTime": {
     "end_time": "2017-11-08T01:28:42.118179Z",
     "start_time": "2017-11-08T01:28:42.112527Z"
    }
   },
   "outputs": [
    {
     "data": {
      "text/plain": [
       "array(9.999999747378752e-05, dtype=float32)"
      ]
     },
     "execution_count": 37,
     "metadata": {},
     "output_type": "execute_result"
    }
   ],
   "source": [
    "act_reg.l1"
   ]
  },
  {
   "cell_type": "code",
   "execution_count": 26,
   "metadata": {
    "ExecuteTime": {
     "end_time": "2017-11-08T01:16:35.868071Z",
     "start_time": "2017-11-08T01:16:35.839721Z"
    }
   },
   "outputs": [],
   "source": [
    "autoencoder, encoded, decoded = create_autoencoder(activity_regularizer=act_reg)"
   ]
  },
  {
   "cell_type": "code",
   "execution_count": 27,
   "metadata": {
    "ExecuteTime": {
     "end_time": "2017-11-08T01:16:36.488095Z",
     "start_time": "2017-11-08T01:16:36.480523Z"
    }
   },
   "outputs": [
    {
     "name": "stdout",
     "output_type": "stream",
     "text": [
      "_________________________________________________________________\n",
      "Layer (type)                 Output Shape              Param #   \n",
      "=================================================================\n",
      "input_1 (InputLayer)         (None, 784)               0         \n",
      "_________________________________________________________________\n",
      "dense_3 (Dense)              (None, 32)                25120     \n",
      "_________________________________________________________________\n",
      "dense_4 (Dense)              (None, 784)               25872     \n",
      "=================================================================\n",
      "Total params: 50,992\n",
      "Trainable params: 50,992\n",
      "Non-trainable params: 0\n",
      "_________________________________________________________________\n"
     ]
    }
   ],
   "source": [
    "autoencoder.summary()"
   ]
  },
  {
   "cell_type": "code",
   "execution_count": 28,
   "metadata": {
    "ExecuteTime": {
     "end_time": "2017-11-08T01:17:08.964764Z",
     "start_time": "2017-11-08T01:17:08.959548Z"
    }
   },
   "outputs": [],
   "source": [
    "encoder = create_encoder(encoded)"
   ]
  },
  {
   "cell_type": "code",
   "execution_count": 29,
   "metadata": {
    "ExecuteTime": {
     "end_time": "2017-11-08T01:17:34.578344Z",
     "start_time": "2017-11-08T01:17:34.566878Z"
    }
   },
   "outputs": [],
   "source": [
    "decoder = create_decoder(autoencoder)"
   ]
  },
  {
   "cell_type": "markdown",
   "metadata": {},
   "source": [
    "Let's train this model for 100 epochs (with the added regularization the model is less likely to overfit and can be trained longer)"
   ]
  },
  {
   "cell_type": "code",
   "execution_count": 30,
   "metadata": {
    "ExecuteTime": {
     "end_time": "2017-11-08T01:18:24.827480Z",
     "start_time": "2017-11-08T01:18:24.790502Z"
    }
   },
   "outputs": [],
   "source": [
    "autoencoder.compile(optimizer='adadelta', loss='binary_crossentropy')"
   ]
  },
  {
   "cell_type": "code",
   "execution_count": 31,
   "metadata": {
    "ExecuteTime": {
     "end_time": "2017-11-08T01:26:25.742144Z",
     "start_time": "2017-11-08T01:18:25.866126Z"
    }
   },
   "outputs": [
    {
     "name": "stdout",
     "output_type": "stream",
     "text": [
      "Train on 60000 samples, validate on 10000 samples\n",
      "Epoch 1/100\n",
      "4s - loss: 1.6601 - val_loss: 0.8158\n",
      "Epoch 2/100\n",
      "4s - loss: 0.7923 - val_loss: 0.7866\n",
      "Epoch 3/100\n",
      "4s - loss: 0.7698 - val_loss: 0.7657\n",
      "Epoch 4/100\n",
      "5s - loss: 0.7490 - val_loss: 0.7449\n",
      "Epoch 5/100\n",
      "5s - loss: 0.7287 - val_loss: 0.7256\n",
      "Epoch 6/100\n",
      "4s - loss: 0.7109 - val_loss: 0.7090\n",
      "Epoch 7/100\n",
      "5s - loss: 0.6946 - val_loss: 0.6930\n",
      "Epoch 8/100\n",
      "4s - loss: 0.6795 - val_loss: 0.6803\n",
      "Epoch 9/100\n",
      "5s - loss: 0.6657 - val_loss: 0.6683\n",
      "Epoch 10/100\n",
      "4s - loss: 0.6535 - val_loss: 0.6566\n",
      "Epoch 11/100\n",
      "4s - loss: 0.6434 - val_loss: 0.6471\n",
      "Epoch 12/100\n",
      "4s - loss: 0.6352 - val_loss: 0.6434\n",
      "Epoch 13/100\n",
      "4s - loss: 0.6289 - val_loss: 0.6374\n",
      "Epoch 14/100\n",
      "4s - loss: 0.6239 - val_loss: 0.6312\n",
      "Epoch 15/100\n",
      "4s - loss: 0.6198 - val_loss: 0.6290\n",
      "Epoch 16/100\n",
      "4s - loss: 0.6166 - val_loss: 0.6257\n",
      "Epoch 17/100\n",
      "4s - loss: 0.6139 - val_loss: 0.6233\n",
      "Epoch 18/100\n",
      "5s - loss: 0.6117 - val_loss: 0.6230\n",
      "Epoch 19/100\n",
      "4s - loss: 0.6098 - val_loss: 0.6228\n",
      "Epoch 20/100\n",
      "4s - loss: 0.6082 - val_loss: 0.6180\n",
      "Epoch 21/100\n",
      "4s - loss: 0.6067 - val_loss: 0.6204\n",
      "Epoch 22/100\n",
      "4s - loss: 0.6055 - val_loss: 0.6159\n",
      "Epoch 23/100\n",
      "4s - loss: 0.6043 - val_loss: 0.6159\n",
      "Epoch 24/100\n",
      "4s - loss: 0.6033 - val_loss: 0.6168\n",
      "Epoch 25/100\n",
      "4s - loss: 0.6024 - val_loss: 0.6140\n",
      "Epoch 26/100\n",
      "4s - loss: 0.6015 - val_loss: 0.6121\n",
      "Epoch 27/100\n",
      "4s - loss: 0.6008 - val_loss: 0.6118\n",
      "Epoch 28/100\n",
      "4s - loss: 0.6000 - val_loss: 0.6105\n",
      "Epoch 29/100\n",
      "4s - loss: 0.5994 - val_loss: 0.6097\n",
      "Epoch 30/100\n",
      "4s - loss: 0.5988 - val_loss: 0.6101\n",
      "Epoch 31/100\n",
      "4s - loss: 0.5982 - val_loss: 0.6098\n",
      "Epoch 32/100\n",
      "4s - loss: 0.5977 - val_loss: 0.6096\n",
      "Epoch 33/100\n",
      "4s - loss: 0.5972 - val_loss: 0.6083\n",
      "Epoch 34/100\n",
      "4s - loss: 0.5967 - val_loss: 0.6088\n",
      "Epoch 35/100\n",
      "4s - loss: 0.5963 - val_loss: 0.6089\n",
      "Epoch 36/100\n",
      "4s - loss: 0.5959 - val_loss: 0.6073\n",
      "Epoch 37/100\n",
      "4s - loss: 0.5955 - val_loss: 0.6080\n",
      "Epoch 38/100\n",
      "4s - loss: 0.5952 - val_loss: 0.6062\n",
      "Epoch 39/100\n",
      "4s - loss: 0.5948 - val_loss: 0.6064\n",
      "Epoch 40/100\n",
      "4s - loss: 0.5945 - val_loss: 0.6065\n",
      "Epoch 41/100\n",
      "4s - loss: 0.5942 - val_loss: 0.6052\n",
      "Epoch 42/100\n",
      "4s - loss: 0.5939 - val_loss: 0.6048\n",
      "Epoch 43/100\n",
      "4s - loss: 0.5936 - val_loss: 0.6051\n",
      "Epoch 44/100\n",
      "4s - loss: 0.5934 - val_loss: 0.6055\n",
      "Epoch 45/100\n",
      "4s - loss: 0.5931 - val_loss: 0.6063\n",
      "Epoch 46/100\n",
      "4s - loss: 0.5929 - val_loss: 0.6070\n",
      "Epoch 47/100\n",
      "4s - loss: 0.5927 - val_loss: 0.6042\n",
      "Epoch 48/100\n",
      "5s - loss: 0.5925 - val_loss: 0.6035\n",
      "Epoch 49/100\n",
      "4s - loss: 0.5923 - val_loss: 0.6057\n",
      "Epoch 50/100\n",
      "4s - loss: 0.5921 - val_loss: 0.6032\n",
      "Epoch 51/100\n",
      "4s - loss: 0.5919 - val_loss: 0.6025\n",
      "Epoch 52/100\n",
      "4s - loss: 0.5917 - val_loss: 0.6036\n",
      "Epoch 53/100\n",
      "4s - loss: 0.5916 - val_loss: 0.6045\n",
      "Epoch 54/100\n",
      "4s - loss: 0.5914 - val_loss: 0.6040\n",
      "Epoch 55/100\n",
      "4s - loss: 0.5913 - val_loss: 0.6022\n",
      "Epoch 56/100\n",
      "4s - loss: 0.5911 - val_loss: 0.6029\n",
      "Epoch 57/100\n",
      "4s - loss: 0.5910 - val_loss: 0.6033\n",
      "Epoch 58/100\n",
      "4s - loss: 0.5909 - val_loss: 0.6020\n",
      "Epoch 59/100\n",
      "4s - loss: 0.5907 - val_loss: 0.6053\n",
      "Epoch 60/100\n",
      "4s - loss: 0.5906 - val_loss: 0.6013\n",
      "Epoch 61/100\n",
      "4s - loss: 0.5905 - val_loss: 0.6026\n",
      "Epoch 62/100\n",
      "4s - loss: 0.5904 - val_loss: 0.6024\n",
      "Epoch 63/100\n",
      "4s - loss: 0.5903 - val_loss: 0.6026\n",
      "Epoch 64/100\n",
      "4s - loss: 0.5902 - val_loss: 0.6028\n",
      "Epoch 65/100\n",
      "4s - loss: 0.5901 - val_loss: 0.6034\n",
      "Epoch 66/100\n",
      "4s - loss: 0.5900 - val_loss: 0.6032\n",
      "Epoch 67/100\n",
      "4s - loss: 0.5899 - val_loss: 0.6006\n",
      "Epoch 68/100\n",
      "5s - loss: 0.5898 - val_loss: 0.6021\n",
      "Epoch 69/100\n",
      "4s - loss: 0.5897 - val_loss: 0.6028\n",
      "Epoch 70/100\n",
      "4s - loss: 0.5897 - val_loss: 0.6044\n",
      "Epoch 71/100\n",
      "4s - loss: 0.5896 - val_loss: 0.6018\n",
      "Epoch 72/100\n",
      "4s - loss: 0.5895 - val_loss: 0.6026\n",
      "Epoch 73/100\n",
      "5s - loss: 0.5894 - val_loss: 0.6025\n",
      "Epoch 74/100\n",
      "5s - loss: 0.5894 - val_loss: 0.6027\n",
      "Epoch 75/100\n",
      "5s - loss: 0.5893 - val_loss: 0.6016\n",
      "Epoch 76/100\n",
      "4s - loss: 0.5893 - val_loss: 0.6013\n",
      "Epoch 77/100\n",
      "4s - loss: 0.5892 - val_loss: 0.6001\n",
      "Epoch 78/100\n",
      "4s - loss: 0.5891 - val_loss: 0.6000\n",
      "Epoch 79/100\n",
      "5s - loss: 0.5891 - val_loss: 0.6008\n",
      "Epoch 80/100\n",
      "5s - loss: 0.5890 - val_loss: 0.6008\n",
      "Epoch 81/100\n",
      "6s - loss: 0.5890 - val_loss: 0.6015\n",
      "Epoch 82/100\n",
      "6s - loss: 0.5889 - val_loss: 0.6017\n",
      "Epoch 83/100\n",
      "5s - loss: 0.5889 - val_loss: 0.6003\n",
      "Epoch 84/100\n",
      "5s - loss: 0.5888 - val_loss: 0.6008\n",
      "Epoch 85/100\n",
      "4s - loss: 0.5888 - val_loss: 0.6021\n",
      "Epoch 86/100\n",
      "4s - loss: 0.5887 - val_loss: 0.5997\n",
      "Epoch 87/100\n",
      "4s - loss: 0.5887 - val_loss: 0.6023\n",
      "Epoch 88/100\n",
      "4s - loss: 0.5886 - val_loss: 0.6031\n",
      "Epoch 89/100\n",
      "4s - loss: 0.5886 - val_loss: 0.6007\n",
      "Epoch 90/100\n",
      "5s - loss: 0.5886 - val_loss: 0.6002\n",
      "Epoch 91/100\n",
      "4s - loss: 0.5885 - val_loss: 0.6026\n",
      "Epoch 92/100\n",
      "4s - loss: 0.5885 - val_loss: 0.6002\n",
      "Epoch 93/100\n",
      "4s - loss: 0.5884 - val_loss: 0.6016\n",
      "Epoch 94/100\n",
      "4s - loss: 0.5884 - val_loss: 0.6021\n",
      "Epoch 95/100\n",
      "4s - loss: 0.5884 - val_loss: 0.6002\n",
      "Epoch 96/100\n",
      "4s - loss: 0.5883 - val_loss: 0.6005\n",
      "Epoch 97/100\n",
      "4s - loss: 0.5883 - val_loss: 0.6018\n",
      "Epoch 98/100\n",
      "4s - loss: 0.5883 - val_loss: 0.6001\n",
      "Epoch 99/100\n",
      "4s - loss: 0.5882 - val_loss: 0.6014\n",
      "Epoch 100/100\n",
      "4s - loss: 0.5882 - val_loss: 0.6005\n"
     ]
    },
    {
     "data": {
      "text/plain": [
       "<keras.callbacks.History at 0x7fb9cddba198>"
      ]
     },
     "execution_count": 31,
     "metadata": {},
     "output_type": "execute_result"
    }
   ],
   "source": [
    "autoencoder.fit(\n",
    "    x_train,\n",
    "    x_train,\n",
    "    epochs=100,\n",
    "    batch_size=256,\n",
    "    shuffle=True,\n",
    "    validation_data=(x_test, x_test),\n",
    "    verbose=2)"
   ]
  },
  {
   "cell_type": "code",
   "execution_count": 32,
   "metadata": {
    "ExecuteTime": {
     "end_time": "2017-11-08T01:26:26.178200Z",
     "start_time": "2017-11-08T01:26:25.745370Z"
    }
   },
   "outputs": [],
   "source": [
    "encoded_imgs = encoder.predict(x_test)\n",
    "decoded_imgs = decoder.predict(encoded_imgs)"
   ]
  },
  {
   "cell_type": "code",
   "execution_count": 33,
   "metadata": {
    "ExecuteTime": {
     "end_time": "2017-11-08T01:26:27.608487Z",
     "start_time": "2017-11-08T01:26:26.180152Z"
    }
   },
   "outputs": [
    {
     "data": {
      "image/png": "[encoded data removed]",
      "text/plain": [
       "<matplotlib.figure.Figure at 0x7fb9cdd9ff60>"
      ]
     },
     "metadata": {},
     "output_type": "display_data"
    }
   ],
   "source": [
    "plot_images()"
   ]
  },
  {
   "cell_type": "code",
   "execution_count": null,
   "metadata": {},
   "outputs": [],
   "source": []
  }
 ],
 "metadata": {
  "gist": {
   "data": {
    "description": "AutoEncoders/simplest-autoencoder.ipynb",
    "public": false
   },
   "id": ""
  },
  "kernelspec": {
   "display_name": "Python 3",
   "language": "python",
   "name": "python3"
  },
  "language_info": {
   "codemirror_mode": {
    "name": "ipython",
    "version": 3
   },
   "file_extension": ".py",
   "mimetype": "text/x-python",
   "name": "python",
   "nbconvert_exporter": "python",
   "pygments_lexer": "ipython3",
   "version": "3.6.3"
  },
  "toc": {
   "nav_menu": {},
   "number_sections": true,
   "sideBar": true,
   "skip_h1_title": false,
   "toc_cell": true,
   "toc_position": {},
   "toc_section_display": "block",
   "toc_window_display": false
  }
 },
 "nbformat": 4,
 "nbformat_minor": 2
}
