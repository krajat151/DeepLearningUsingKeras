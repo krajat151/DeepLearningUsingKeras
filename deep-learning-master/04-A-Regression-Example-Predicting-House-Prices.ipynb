{
 "cells": [
  {
   "cell_type": "markdown",
   "metadata": {
    "toc": true
   },
   "source": [
    "<h1>Table of Contents<span class=\"tocSkip\"></span></h1>\n",
    "<div class=\"toc\" style=\"margin-top: 1em;\"><ul class=\"toc-item\"><li><span><a href=\"#Goal\" data-toc-modified-id=\"Goal-1\"><span class=\"toc-item-num\">1&nbsp;&nbsp;</span>Goal</a></span></li><li><span><a href=\"#Boston-Housing-Dataset\" data-toc-modified-id=\"Boston-Housing-Dataset-2\"><span class=\"toc-item-num\">2&nbsp;&nbsp;</span>Boston Housing Dataset</a></span></li><li><span><a href=\"#Preparing-the-data\" data-toc-modified-id=\"Preparing-the-data-3\"><span class=\"toc-item-num\">3&nbsp;&nbsp;</span>Preparing the data</a></span><ul class=\"toc-item\"><li><span><a href=\"#Normalizing-the-data\" data-toc-modified-id=\"Normalizing-the-data-3.1\"><span class=\"toc-item-num\">3.1&nbsp;&nbsp;</span>Normalizing the data</a></span></li></ul></li><li><span><a href=\"#Building-the-network\" data-toc-modified-id=\"Building-the-network-4\"><span class=\"toc-item-num\">4&nbsp;&nbsp;</span>Building the network</a></span><ul class=\"toc-item\"><li><span><a href=\"#Model-definition\" data-toc-modified-id=\"Model-definition-4.1\"><span class=\"toc-item-num\">4.1&nbsp;&nbsp;</span>Model definition</a></span></li></ul></li><li><span><a href=\"#Validating-our-approach-using-the-k-fold-validation\" data-toc-modified-id=\"Validating-our-approach-using-the-k-fold-validation-5\"><span class=\"toc-item-num\">5&nbsp;&nbsp;</span>Validating our approach using the k-fold validation</a></span><ul class=\"toc-item\"><li><span><a href=\"#Saving-the-validation-logs-at-each-fold\" data-toc-modified-id=\"Saving-the-validation-logs-at-each-fold-5.1\"><span class=\"toc-item-num\">5.1&nbsp;&nbsp;</span>Saving the validation logs at each fold</a></span></li></ul></li><li><span><a href=\"#Building-the-history-of-successive-mean-k-fold-validation-scores\" data-toc-modified-id=\"Building-the-history-of-successive-mean-k-fold-validation-scores-6\"><span class=\"toc-item-num\">6&nbsp;&nbsp;</span>Building the history of successive mean k-fold validation scores</a></span></li><li><span><a href=\"#Plotting-validation-scores\" data-toc-modified-id=\"Plotting-validation-scores-7\"><span class=\"toc-item-num\">7&nbsp;&nbsp;</span>Plotting validation scores</a></span><ul class=\"toc-item\"><li><span><a href=\"#Plotting-validation-scores,-excluding-the-first-10-data-points\" data-toc-modified-id=\"Plotting-validation-scores,-excluding-the-first-10-data-points-7.1\"><span class=\"toc-item-num\">7.1&nbsp;&nbsp;</span>Plotting validation scores, excluding the first 10 data points</a></span></li></ul></li><li><span><a href=\"#Training-the-final-model\" data-toc-modified-id=\"Training-the-final-model-8\"><span class=\"toc-item-num\">8&nbsp;&nbsp;</span>Training the final model</a></span></li><li><span><a href=\"#key-Takeaways\" data-toc-modified-id=\"key-Takeaways-9\"><span class=\"toc-item-num\">9&nbsp;&nbsp;</span>key Takeaways</a></span></li></ul></div>"
   ]
  },
  {
   "cell_type": "markdown",
   "metadata": {},
   "source": [
    "# Goal"
   ]
  },
  {
   "cell_type": "markdown",
   "metadata": {},
   "source": [
    "In this notebook, we will attempt to predict the median price of homes in a given Boston suburb in the mid-1970, given data points about the suburb at the time, such as the crime rate, the local property tax rate, etc.\n"
   ]
  },
  {
   "cell_type": "markdown",
   "metadata": {},
   "source": [
    "# Boston Housing Dataset"
   ]
  },
  {
   "cell_type": "code",
   "execution_count": 1,
   "metadata": {},
   "outputs": [
    {
     "name": "stderr",
     "output_type": "stream",
     "text": [
      "Using TensorFlow backend.\n"
     ]
    }
   ],
   "source": [
    "from keras.datasets import boston_housing"
   ]
  },
  {
   "cell_type": "code",
   "execution_count": 2,
   "metadata": {},
   "outputs": [],
   "source": [
    "(train_data, train_targets), (test_data, test_targets) = boston_housing.load_data()"
   ]
  },
  {
   "cell_type": "code",
   "execution_count": 3,
   "metadata": {},
   "outputs": [
    {
     "data": {
      "text/plain": [
       "(404, 13)"
      ]
     },
     "execution_count": 3,
     "metadata": {},
     "output_type": "execute_result"
    }
   ],
   "source": [
    "train_data.shape"
   ]
  },
  {
   "cell_type": "code",
   "execution_count": 4,
   "metadata": {},
   "outputs": [
    {
     "data": {
      "text/plain": [
       "(102, 13)"
      ]
     },
     "execution_count": 4,
     "metadata": {},
     "output_type": "execute_result"
    }
   ],
   "source": [
    "test_data.shape"
   ]
  },
  {
   "cell_type": "markdown",
   "metadata": {},
   "source": [
    "The prices are typically between \\$10000 and \\$50000. The targets are the median values of owner-occupied homes, in thousands of dollars."
   ]
  },
  {
   "cell_type": "code",
   "execution_count": 5,
   "metadata": {},
   "outputs": [
    {
     "name": "stdout",
     "output_type": "stream",
     "text": [
      "[ 15.2  42.3  50.   21.1  17.7  18.5  11.3  15.6  15.6  14.4  12.1  17.9\n",
      "  23.1  19.9  15.7   8.8  50.   22.5  24.1  27.5  10.9  30.8  32.9  24.\n",
      "  18.5  13.3  22.9  34.7  16.6  17.5  22.3  16.1  14.9  23.1  34.9  25.\n",
      "  13.9  13.1  20.4  20.   15.2  24.7  22.2  16.7  12.7  15.6  18.4  21.\n",
      "  30.1  15.1  18.7   9.6  31.5  24.8  19.1  22.   14.5  11.   32.   29.4\n",
      "  20.3  24.4  14.6  19.5  14.1  14.3  15.6  10.5   6.3  19.3  19.3  13.4\n",
      "  36.4  17.8  13.5  16.5   8.3  14.3  16.   13.4  28.6  43.5  20.2  22.\n",
      "  23.   20.7  12.5  48.5  14.6  13.4  23.7  50.   21.7  39.8  38.7  22.2\n",
      "  34.9  22.5  31.1  28.7  46.   41.7  21.   26.6  15.   24.4  13.3  21.2\n",
      "  11.7  21.7  19.4  50.   22.8  19.7  24.7  36.2  14.2  18.9  18.3  20.6\n",
      "  24.6  18.2   8.7  44.   10.4  13.2  21.2  37.   30.7  22.9  20.   19.3\n",
      "  31.7  32.   23.1  18.8  10.9  50.   19.6   5.   14.4  19.8  13.8  19.6\n",
      "  23.9  24.5  25.   19.9  17.2  24.6  13.5  26.6  21.4  11.9  22.6  19.6\n",
      "   8.5  23.7  23.1  22.4  20.5  23.6  18.4  35.2  23.1  27.9  20.6  23.7\n",
      "  28.   13.6  27.1  23.6  20.6  18.2  21.7  17.1   8.4  25.3  13.8  22.2\n",
      "  18.4  20.7  31.6  30.5  20.3   8.8  19.2  19.4  23.1  23.   14.8  48.8\n",
      "  22.6  33.4  21.1  13.6  32.2  13.1  23.4  18.9  23.9  11.8  23.3  22.8\n",
      "  19.6  16.7  13.4  22.2  20.4  21.8  26.4  14.9  24.1  23.8  12.3  29.1\n",
      "  21.   19.5  23.3  23.8  17.8  11.5  21.7  19.9  25.   33.4  28.5  21.4\n",
      "  24.3  27.5  33.1  16.2  23.3  48.3  22.9  22.8  13.1  12.7  22.6  15.\n",
      "  15.3  10.5  24.   18.5  21.7  19.5  33.2  23.2   5.   19.1  12.7  22.3\n",
      "  10.2  13.9  16.3  17.   20.1  29.9  17.2  37.3  45.4  17.8  23.2  29.\n",
      "  22.   18.   17.4  34.6  20.1  25.   15.6  24.8  28.2  21.2  21.4  23.8\n",
      "  31.   26.2  17.4  37.9  17.5  20.    8.3  23.9   8.4  13.8   7.2  11.7\n",
      "  17.1  21.6  50.   16.1  20.4  20.6  21.4  20.6  36.5   8.5  24.8  10.8\n",
      "  21.9  17.3  18.9  36.2  14.9  18.2  33.3  21.8  19.7  31.6  24.8  19.4\n",
      "  22.8   7.5  44.8  16.8  18.7  50.   50.   19.5  20.1  50.   17.2  20.8\n",
      "  19.3  41.3  20.4  20.5  13.8  16.5  23.9  20.6  31.5  23.3  16.8  14.\n",
      "  33.8  36.1  12.8  18.3  18.7  19.1  29.   30.1  50.   50.   22.   11.9\n",
      "  37.6  50.   22.7  20.8  23.5  27.9  50.   19.3  23.9  22.6  15.2  21.7\n",
      "  19.2  43.8  20.3  33.2  19.9  22.5  32.7  22.   17.1  19.   15.   16.1\n",
      "  25.1  23.7  28.7  37.2  22.6  16.4  25.   29.8  22.1  17.4  18.1  30.3\n",
      "  17.5  24.7  12.6  26.5  28.7  13.3  10.4  24.4  23.   20.   17.8   7.\n",
      "  11.8  24.4  13.8  19.4  25.2  19.4  19.4  29.1]\n"
     ]
    }
   ],
   "source": [
    "print(train_targets)"
   ]
  },
  {
   "cell_type": "markdown",
   "metadata": {},
   "source": [
    "# Preparing the data"
   ]
  },
  {
   "cell_type": "markdown",
   "metadata": {},
   "source": [
    "## Normalizing the data"
   ]
  },
  {
   "cell_type": "code",
   "execution_count": 6,
   "metadata": {},
   "outputs": [
    {
     "data": {
      "text/plain": [
       "(13,)"
      ]
     },
     "execution_count": 6,
     "metadata": {},
     "output_type": "execute_result"
    }
   ],
   "source": [
    "mean = train_data.mean(axis=0)\n",
    "mean.shape"
   ]
  },
  {
   "cell_type": "code",
   "execution_count": 7,
   "metadata": {},
   "outputs": [],
   "source": [
    "train_data -= mean"
   ]
  },
  {
   "cell_type": "code",
   "execution_count": 8,
   "metadata": {},
   "outputs": [],
   "source": [
    "std = train_data.std(axis=0)"
   ]
  },
  {
   "cell_type": "code",
   "execution_count": 9,
   "metadata": {},
   "outputs": [],
   "source": [
    "train_data /= std"
   ]
  },
  {
   "cell_type": "code",
   "execution_count": 10,
   "metadata": {},
   "outputs": [],
   "source": [
    "test_data -= mean\n",
    "test_data /= std"
   ]
  },
  {
   "cell_type": "markdown",
   "metadata": {},
   "source": [
    "- The quantities used for normalizing the test data are computed using the training data. You should never use in your workflow any quantity computed on the test data, even for something as simple as data normalization."
   ]
  },
  {
   "cell_type": "markdown",
   "metadata": {},
   "source": [
    "# Building the network"
   ]
  },
  {
   "cell_type": "markdown",
   "metadata": {},
   "source": [
    "## Model definition"
   ]
  },
  {
   "cell_type": "code",
   "execution_count": 11,
   "metadata": {},
   "outputs": [],
   "source": [
    "from keras import models\n",
    "from keras import layers"
   ]
  },
  {
   "cell_type": "code",
   "execution_count": 12,
   "metadata": {},
   "outputs": [],
   "source": [
    "def build_model():\n",
    "    model = models.Sequential()\n",
    "    model.add(layers.Dense(64, activation='relu', \n",
    "                           input_shape=(train_data.shape[1],)))\n",
    "    model.add(layers.Dense(64, activation='relu'))\n",
    "    model.add(layers.Dense(1))\n",
    "    model.compile(optimizer='rmsprop', loss='mse', metrics=['mae'])\n",
    "    return model"
   ]
  },
  {
   "cell_type": "markdown",
   "metadata": {},
   "source": [
    "**MAE**: Mean Absolute Error is the absolute difference between the predictions and the targets."
   ]
  },
  {
   "cell_type": "markdown",
   "metadata": {},
   "source": [
    "# Validating our approach using the k-fold validation"
   ]
  },
  {
   "cell_type": "code",
   "execution_count": 13,
   "metadata": {},
   "outputs": [],
   "source": [
    "import numpy as np"
   ]
  },
  {
   "cell_type": "code",
   "execution_count": 14,
   "metadata": {},
   "outputs": [],
   "source": [
    "k = 4\n",
    "num_val_samples = len(train_data) // k\n",
    "num_epochs = 100\n",
    "all_scores = []"
   ]
  },
  {
   "cell_type": "code",
   "execution_count": 15,
   "metadata": {},
   "outputs": [
    {
     "name": "stdout",
     "output_type": "stream",
     "text": [
      "Processing fold # 0\n",
      "Processing fold # 1\n",
      "Processing fold # 2\n",
      "Processing fold # 3\n"
     ]
    }
   ],
   "source": [
    "for i in range(k):\n",
    "    print(\"Processing fold #\", i)\n",
    "    val_data = train_data[i * num_val_samples : (i+1) * num_val_samples]\n",
    "    val_targets = train_targets[i * num_val_samples : (i+1) * num_val_samples]\n",
    "    \n",
    "    partial_train_data = np.concatenate(\n",
    "            [train_data[:i * num_val_samples], \n",
    "             train_data[(i + 1) * num_val_samples:]], axis=0)\n",
    "    \n",
    "    partial_train_targets = np.concatenate(\n",
    "            [train_targets[:i * num_val_samples], \n",
    "             train_targets[(i + 1) * num_val_samples:]], axis=0)\n",
    "    \n",
    "    model = build_model()\n",
    "    model.fit(partial_train_data, partial_train_targets, epochs=num_epochs,\n",
    "              batch_size=1, verbose=0)\n",
    "    val_mse, val_mae = model.evaluate(val_data, val_targets, verbose=0)\n",
    "    all_scores.append(val_mae)"
   ]
  },
  {
   "cell_type": "code",
   "execution_count": 16,
   "metadata": {},
   "outputs": [
    {
     "data": {
      "text/plain": [
       "[2.0795102272883499,\n",
       " 2.1256098487589621,\n",
       " 2.9143614910616735,\n",
       " 2.4292112671502748]"
      ]
     },
     "execution_count": 16,
     "metadata": {},
     "output_type": "execute_result"
    }
   ],
   "source": [
    "all_scores"
   ]
  },
  {
   "cell_type": "code",
   "execution_count": 17,
   "metadata": {},
   "outputs": [
    {
     "data": {
      "text/plain": [
       "2.387173208564815"
      ]
     },
     "execution_count": 17,
     "metadata": {},
     "output_type": "execute_result"
    }
   ],
   "source": [
    "np.mean(all_scores)"
   ]
  },
  {
   "cell_type": "markdown",
   "metadata": {},
   "source": [
    "The average mean absolute error of 2.4 means that we are off by \\$2400 on average whihc is significant considering that the prices range from \\$10000 to \\$50000."
   ]
  },
  {
   "cell_type": "markdown",
   "metadata": {},
   "source": [
    "## Saving the validation logs at each fold "
   ]
  },
  {
   "cell_type": "code",
   "execution_count": 18,
   "metadata": {},
   "outputs": [],
   "source": [
    "num_epochs = 500\n",
    "all_mae_histories = []"
   ]
  },
  {
   "cell_type": "code",
   "execution_count": 19,
   "metadata": {},
   "outputs": [
    {
     "name": "stdout",
     "output_type": "stream",
     "text": [
      "Processing fold # 0\n",
      "Processing fold # 1\n",
      "Processing fold # 2\n",
      "Processing fold # 3\n"
     ]
    }
   ],
   "source": [
    "for i in range(k):\n",
    "    print(\"Processing fold #\", i)\n",
    "    val_data = train_data[i * num_val_samples : (i+1) * num_val_samples]\n",
    "    val_targets = train_targets[i * num_val_samples : (i+1) * num_val_samples]\n",
    "    \n",
    "    partial_train_data = np.concatenate(\n",
    "            [train_data[:i * num_val_samples], \n",
    "             train_data[(i + 1) * num_val_samples:]], axis=0)\n",
    "    \n",
    "    partial_train_targets = np.concatenate(\n",
    "            [train_targets[:i * num_val_samples], \n",
    "             train_targets[(i + 1) * num_val_samples:]], axis=0)\n",
    "    \n",
    "    model = build_model()\n",
    "    history = model.fit(partial_train_data, partial_train_targets, epochs=num_epochs,\n",
    "              validation_data = (val_data, val_targets), \n",
    "              batch_size=1, verbose=0)\n",
    "    mae_history = history.history['val_mean_absolute_error']\n",
    "    all_mae_histories.append(mae_history)"
   ]
  },
  {
   "cell_type": "markdown",
   "metadata": {},
   "source": [
    "# Building the history of successive mean k-fold validation scores"
   ]
  },
  {
   "cell_type": "code",
   "execution_count": 20,
   "metadata": {},
   "outputs": [],
   "source": [
    "average_mae_history = [\n",
    "    np.mean([x[i] for x in all_mae_histories]) for i in range(num_epochs)\n",
    "]"
   ]
  },
  {
   "cell_type": "markdown",
   "metadata": {},
   "source": [
    "# Plotting validation scores"
   ]
  },
  {
   "cell_type": "code",
   "execution_count": 22,
   "metadata": {},
   "outputs": [],
   "source": [
    "import matplotlib.pyplot as plt\n",
    "%matplotlib inline"
   ]
  },
  {
   "cell_type": "code",
   "execution_count": 24,
   "metadata": {},
   "outputs": [
    {
     "data": {
      "image/png": "[encoded data removed]",
      "text/plain": [
       "<matplotlib.figure.Figure at 0x7f5db4115908>"
      ]
     },
     "metadata": {},
     "output_type": "display_data"
    }
   ],
   "source": [
    "plt.plot(range(1, len(average_mae_history) + 1), average_mae_history)\n",
    "plt.xlabel('Epochs')\n",
    "plt.ylabel('Validation Mean Absolute Error (MAE)')\n",
    "plt.show()"
   ]
  },
  {
   "cell_type": "markdown",
   "metadata": {},
   "source": [
    "It may be a little difficult to see the plot, due to scaling issues and relatively high variance. "
   ]
  },
  {
   "cell_type": "markdown",
   "metadata": {},
   "source": [
    "- Omit the first 10 points, which are on a different scale than the rest of the curve.\n",
    "- Replace each point with an exponential moving average of the previous points to obtain a smooth curve. "
   ]
  },
  {
   "cell_type": "markdown",
   "metadata": {},
   "source": [
    "## Plotting validation scores, excluding the first 10 data points"
   ]
  },
  {
   "cell_type": "code",
   "execution_count": 26,
   "metadata": {},
   "outputs": [],
   "source": [
    "def smooth_curve(points, factor=0.9):\n",
    "    smoothed_points = []\n",
    "    for point in points:\n",
    "        if smoothed_points:\n",
    "            previous = smoothed_points[-1]\n",
    "            smoothed_points.append(previous * factor + point * (1 - factor))\n",
    "        else:\n",
    "            smoothed_points.append(point)\n",
    "    return smoothed_points"
   ]
  },
  {
   "cell_type": "code",
   "execution_count": 27,
   "metadata": {},
   "outputs": [],
   "source": [
    "smooth_mae_history = smooth_curve(average_mae_history[10:])"
   ]
  },
  {
   "cell_type": "code",
   "execution_count": 28,
   "metadata": {},
   "outputs": [
    {
     "data": {
      "image/png": "[encoded data removed]",
      "text/plain": [
       "<matplotlib.figure.Figure at 0x7f5da0494518>"
      ]
     },
     "metadata": {},
     "output_type": "display_data"
    }
   ],
   "source": [
    "plt.plot(range(1, len(smooth_mae_history) + 1), smooth_mae_history)\n",
    "plt.xlabel('Epochs')\n",
    "plt.ylabel('Validation MAE')\n",
    "plt.show()"
   ]
  },
  {
   "cell_type": "markdown",
   "metadata": {},
   "source": [
    "- The validation MAE stops improving significantly after 80 epochs. Past that point, we start overfitting. "
   ]
  },
  {
   "cell_type": "markdown",
   "metadata": {},
   "source": [
    "# Training the final model\n",
    "\n",
    "Once we are finished tunig other parameters of the model, we can train a final production model on all of the training data, with the best parameters, and then look at its performance on the test data."
   ]
  },
  {
   "cell_type": "code",
   "execution_count": 32,
   "metadata": {},
   "outputs": [
    {
     "name": "stdout",
     "output_type": "stream",
     "text": [
      "Epoch 1/80\n",
      " - 0s - loss: 475.2831 - mean_absolute_error: 19.6053\n",
      "Epoch 2/80\n",
      " - 0s - loss: 291.1404 - mean_absolute_error: 14.5529\n",
      "Epoch 3/80\n",
      " - 0s - loss: 130.4484 - mean_absolute_error: 9.0379\n",
      "Epoch 4/80\n",
      " - 0s - loss: 55.6484 - mean_absolute_error: 5.4778\n",
      "Epoch 5/80\n",
      " - 0s - loss: 34.7121 - mean_absolute_error: 4.2044\n",
      "Epoch 6/80\n",
      " - 0s - loss: 26.9467 - mean_absolute_error: 3.6409\n",
      "Epoch 7/80\n",
      " - 0s - loss: 23.2742 - mean_absolute_error: 3.3565\n",
      "Epoch 8/80\n",
      " - 0s - loss: 20.5793 - mean_absolute_error: 3.1824\n",
      "Epoch 9/80\n",
      " - 0s - loss: 18.2672 - mean_absolute_error: 2.9930\n",
      "Epoch 10/80\n",
      " - 0s - loss: 16.9594 - mean_absolute_error: 2.9376\n",
      "Epoch 11/80\n",
      " - 0s - loss: 15.3964 - mean_absolute_error: 2.7622\n",
      "Epoch 12/80\n",
      " - 0s - loss: 14.3953 - mean_absolute_error: 2.6838\n",
      "Epoch 13/80\n",
      " - 0s - loss: 13.8600 - mean_absolute_error: 2.6269\n",
      "Epoch 14/80\n",
      " - 0s - loss: 12.8498 - mean_absolute_error: 2.5504\n",
      "Epoch 15/80\n",
      " - 0s - loss: 12.2963 - mean_absolute_error: 2.4702\n",
      "Epoch 16/80\n",
      " - 0s - loss: 11.8902 - mean_absolute_error: 2.4238\n",
      "Epoch 17/80\n",
      " - 0s - loss: 11.5600 - mean_absolute_error: 2.3694\n",
      "Epoch 18/80\n",
      " - 0s - loss: 11.2233 - mean_absolute_error: 2.3578\n",
      "Epoch 19/80\n",
      " - 0s - loss: 11.0883 - mean_absolute_error: 2.3004\n",
      "Epoch 20/80\n",
      " - 0s - loss: 10.6673 - mean_absolute_error: 2.3122\n",
      "Epoch 21/80\n",
      " - 0s - loss: 10.3542 - mean_absolute_error: 2.2729\n",
      "Epoch 22/80\n",
      " - 0s - loss: 10.1960 - mean_absolute_error: 2.2514\n",
      "Epoch 23/80\n",
      " - 0s - loss: 9.9060 - mean_absolute_error: 2.2153\n",
      "Epoch 24/80\n",
      " - 0s - loss: 10.0281 - mean_absolute_error: 2.2022\n",
      "Epoch 25/80\n",
      " - 0s - loss: 9.4514 - mean_absolute_error: 2.1765\n",
      "Epoch 26/80\n",
      " - 0s - loss: 9.6924 - mean_absolute_error: 2.1748\n",
      "Epoch 27/80\n",
      " - 0s - loss: 9.3933 - mean_absolute_error: 2.1339\n",
      "Epoch 28/80\n",
      " - 0s - loss: 9.3192 - mean_absolute_error: 2.1240\n",
      "Epoch 29/80\n",
      " - 0s - loss: 9.1031 - mean_absolute_error: 2.1194\n",
      "Epoch 30/80\n",
      " - 0s - loss: 8.9426 - mean_absolute_error: 2.0664\n",
      "Epoch 31/80\n",
      " - 0s - loss: 8.8722 - mean_absolute_error: 2.0744\n",
      "Epoch 32/80\n",
      " - 0s - loss: 8.7325 - mean_absolute_error: 2.0521\n",
      "Epoch 33/80\n",
      " - 0s - loss: 8.5206 - mean_absolute_error: 2.0670\n",
      "Epoch 34/80\n",
      " - 0s - loss: 8.5216 - mean_absolute_error: 2.0329\n",
      "Epoch 35/80\n",
      " - 0s - loss: 8.5491 - mean_absolute_error: 2.0550\n",
      "Epoch 36/80\n",
      " - 0s - loss: 8.2795 - mean_absolute_error: 2.0265\n",
      "Epoch 37/80\n",
      " - 0s - loss: 8.3736 - mean_absolute_error: 1.9772\n",
      "Epoch 38/80\n",
      " - 0s - loss: 8.2088 - mean_absolute_error: 1.9808\n",
      "Epoch 39/80\n",
      " - 0s - loss: 8.1580 - mean_absolute_error: 2.0186\n",
      "Epoch 40/80\n",
      " - 0s - loss: 8.0361 - mean_absolute_error: 1.9857\n",
      "Epoch 41/80\n",
      " - 0s - loss: 7.8760 - mean_absolute_error: 1.9344\n",
      "Epoch 42/80\n",
      " - 0s - loss: 7.8559 - mean_absolute_error: 1.9541\n",
      "Epoch 43/80\n",
      " - 0s - loss: 7.5762 - mean_absolute_error: 1.9263\n",
      "Epoch 44/80\n",
      " - 0s - loss: 7.6492 - mean_absolute_error: 1.9122\n",
      "Epoch 45/80\n",
      " - 0s - loss: 7.7608 - mean_absolute_error: 1.9505\n",
      "Epoch 46/80\n",
      " - 0s - loss: 7.5258 - mean_absolute_error: 1.9106\n",
      "Epoch 47/80\n",
      " - 0s - loss: 7.3159 - mean_absolute_error: 1.9048\n",
      "Epoch 48/80\n",
      " - 0s - loss: 7.3859 - mean_absolute_error: 1.8965\n",
      "Epoch 49/80\n",
      " - 0s - loss: 7.3091 - mean_absolute_error: 1.9026\n",
      "Epoch 50/80\n",
      " - 0s - loss: 7.1062 - mean_absolute_error: 1.8805\n",
      "Epoch 51/80\n",
      " - 0s - loss: 7.1481 - mean_absolute_error: 1.8621\n",
      "Epoch 52/80\n",
      " - 0s - loss: 6.9953 - mean_absolute_error: 1.8386\n",
      "Epoch 53/80\n",
      " - 0s - loss: 7.1104 - mean_absolute_error: 1.8563\n",
      "Epoch 54/80\n",
      " - 0s - loss: 6.9845 - mean_absolute_error: 1.8652\n",
      "Epoch 55/80\n",
      " - 0s - loss: 6.9678 - mean_absolute_error: 1.8501\n",
      "Epoch 56/80\n",
      " - 0s - loss: 6.9557 - mean_absolute_error: 1.8596\n",
      "Epoch 57/80\n",
      " - 0s - loss: 6.7436 - mean_absolute_error: 1.8132\n",
      "Epoch 58/80\n",
      " - 0s - loss: 6.6418 - mean_absolute_error: 1.8344\n",
      "Epoch 59/80\n",
      " - 0s - loss: 6.8253 - mean_absolute_error: 1.8031\n",
      "Epoch 60/80\n",
      " - 0s - loss: 6.7711 - mean_absolute_error: 1.8388\n",
      "Epoch 61/80\n",
      " - 0s - loss: 6.5803 - mean_absolute_error: 1.7868\n",
      "Epoch 62/80\n",
      " - 0s - loss: 6.8108 - mean_absolute_error: 1.8263\n",
      "Epoch 63/80\n",
      " - 0s - loss: 6.5058 - mean_absolute_error: 1.7679\n",
      "Epoch 64/80\n",
      " - 0s - loss: 6.4008 - mean_absolute_error: 1.7687\n",
      "Epoch 65/80\n",
      " - 0s - loss: 6.2862 - mean_absolute_error: 1.7411\n",
      "Epoch 66/80\n",
      " - 0s - loss: 6.4179 - mean_absolute_error: 1.7706\n",
      "Epoch 67/80\n",
      " - 0s - loss: 6.2504 - mean_absolute_error: 1.7395\n",
      "Epoch 68/80\n",
      " - 0s - loss: 6.0761 - mean_absolute_error: 1.6867\n",
      "Epoch 69/80\n",
      " - 0s - loss: 6.1654 - mean_absolute_error: 1.7491\n",
      "Epoch 70/80\n",
      " - 0s - loss: 6.1547 - mean_absolute_error: 1.7037\n",
      "Epoch 71/80\n",
      " - 0s - loss: 6.1764 - mean_absolute_error: 1.7504\n",
      "Epoch 72/80\n",
      " - 0s - loss: 6.1552 - mean_absolute_error: 1.7174\n",
      "Epoch 73/80\n",
      " - 0s - loss: 5.9901 - mean_absolute_error: 1.6950\n",
      "Epoch 74/80\n",
      " - 0s - loss: 5.9521 - mean_absolute_error: 1.7256\n",
      "Epoch 75/80\n",
      " - 0s - loss: 5.9483 - mean_absolute_error: 1.6918\n",
      "Epoch 76/80\n",
      " - 0s - loss: 5.9888 - mean_absolute_error: 1.7030\n",
      "Epoch 77/80\n",
      " - 0s - loss: 5.8858 - mean_absolute_error: 1.7236\n",
      "Epoch 78/80\n",
      " - 0s - loss: 5.7477 - mean_absolute_error: 1.6751\n",
      "Epoch 79/80\n",
      " - 0s - loss: 5.8406 - mean_absolute_error: 1.6550\n",
      "Epoch 80/80\n",
      " - 0s - loss: 5.6304 - mean_absolute_error: 1.6453\n"
     ]
    },
    {
     "data": {
      "text/plain": [
       "<keras.callbacks.History at 0x7f5d93857ef0>"
      ]
     },
     "execution_count": 32,
     "metadata": {},
     "output_type": "execute_result"
    }
   ],
   "source": [
    "model = build_model()\n",
    "model.fit(train_data, train_targets, epochs=80, batch_size=16, verbose=2)"
   ]
  },
  {
   "cell_type": "code",
   "execution_count": 33,
   "metadata": {},
   "outputs": [
    {
     "name": "stdout",
     "output_type": "stream",
     "text": [
      "102/102 [==============================] - 0s 1ms/step\n"
     ]
    }
   ],
   "source": [
    "test_mse_score, test_mae_score = model.evaluate(test_data, test_targets)"
   ]
  },
  {
   "cell_type": "code",
   "execution_count": 34,
   "metadata": {},
   "outputs": [
    {
     "data": {
      "text/plain": [
       "2.7000093740575455"
      ]
     },
     "execution_count": 34,
     "metadata": {},
     "output_type": "execute_result"
    }
   ],
   "source": [
    "test_mae_score"
   ]
  },
  {
   "cell_type": "markdown",
   "metadata": {},
   "source": [
    "We are still off by about \\$2,700"
   ]
  },
  {
   "cell_type": "markdown",
   "metadata": {},
   "source": [
    "# key Takeaways"
   ]
  },
  {
   "cell_type": "markdown",
   "metadata": {},
   "source": [
    "- Regression is done using different loss functions than what we used for classification. Mean squared error (MSE) is a loss function commonly used for regression.\n",
    "- Similarly, evaluation metrics to be used for regression differ from those used for classification; naturally, the concept of accuracy doesn’t apply for regression. A common regression metric is mean absolute error (MAE).\n",
    "- When features in the input data have values in different ranges, each feature should be scaled independently as a preprocessing step.\n",
    "- When there is little data available, using K-fold validation is a great way to reliably evaluate a model.\n",
    "- When little training data is available, it’s preferable to use a small network with few hidden layers (typically only one or two), in order to avoid severe overfitting. "
   ]
  },
  {
   "cell_type": "code",
   "execution_count": 37,
   "metadata": {},
   "outputs": [
    {
     "name": "stdout",
     "output_type": "stream",
     "text": [
      "The version_information extension is already loaded. To reload it, use:\n",
      "  %reload_ext version_information\n"
     ]
    },
    {
     "data": {
      "application/json": {
       "Software versions": [
        {
         "module": "Python",
         "version": "3.6.3 64bit [GCC 4.8.2 20140120 (Red Hat 4.8.2-15)]"
        },
        {
         "module": "IPython",
         "version": "6.2.1"
        },
        {
         "module": "OS",
         "version": "Linux 4.4.0 53 generic x86_64 with debian stretch sid"
        },
        {
         "module": "keras",
         "version": "2.0.9"
        },
        {
         "module": "numpy",
         "version": "1.12.1"
        },
        {
         "module": "tensorflow",
         "version": "1.3.0"
        },
        {
         "module": "matplotlib",
         "version": "2.0.0"
        }
       ]
      },
      "text/html": [
       "<table><tr><th>Software</th><th>Version</th></tr><tr><td>Python</td><td>3.6.3 64bit [GCC 4.8.2 20140120 (Red Hat 4.8.2-15)]</td></tr><tr><td>IPython</td><td>6.2.1</td></tr><tr><td>OS</td><td>Linux 4.4.0 53 generic x86_64 with debian stretch sid</td></tr><tr><td>keras</td><td>2.0.9</td></tr><tr><td>numpy</td><td>1.12.1</td></tr><tr><td>tensorflow</td><td>1.3.0</td></tr><tr><td>matplotlib</td><td>2.0.0</td></tr><tr><td colspan='2'>Fri Dec 22 09:22:46 2017 CST</td></tr></table>"
      ],
      "text/latex": [
       "\\begin{tabular}{|l|l|}\\hline\n",
       "{\\bf Software} & {\\bf Version} \\\\ \\hline\\hline\n",
       "Python & 3.6.3 64bit [GCC 4.8.2 20140120 (Red Hat 4.8.2-15)] \\\\ \\hline\n",
       "IPython & 6.2.1 \\\\ \\hline\n",
       "OS & Linux 4.4.0 53 generic x86\\_64 with debian stretch sid \\\\ \\hline\n",
       "keras & 2.0.9 \\\\ \\hline\n",
       "numpy & 1.12.1 \\\\ \\hline\n",
       "tensorflow & 1.3.0 \\\\ \\hline\n",
       "matplotlib & 2.0.0 \\\\ \\hline\n",
       "\\hline \\multicolumn{2}{|l|}{Fri Dec 22 09:22:46 2017 CST} \\\\ \\hline\n",
       "\\end{tabular}\n"
      ],
      "text/plain": [
       "Software versions\n",
       "Python 3.6.3 64bit [GCC 4.8.2 20140120 (Red Hat 4.8.2-15)]\n",
       "IPython 6.2.1\n",
       "OS Linux 4.4.0 53 generic x86_64 with debian stretch sid\n",
       "keras 2.0.9\n",
       "numpy 1.12.1\n",
       "tensorflow 1.3.0\n",
       "matplotlib 2.0.0\n",
       "Fri Dec 22 09:22:46 2017 CST"
      ]
     },
     "execution_count": 37,
     "metadata": {},
     "output_type": "execute_result"
    }
   ],
   "source": [
    "%load_ext version_information\n",
    "%version_information keras, numpy, tensorflow, matplotlib"
   ]
  }
 ],
 "metadata": {
  "kernelspec": {
   "display_name": "Python [conda env:dl-gpu]",
   "language": "python",
   "name": "conda-env-dl-gpu-py"
  },
  "language_info": {
   "codemirror_mode": {
    "name": "ipython",
    "version": 3
   },
   "file_extension": ".py",
   "mimetype": "text/x-python",
   "name": "python",
   "nbconvert_exporter": "python",
   "pygments_lexer": "ipython3",
   "version": "3.6.3"
  },
  "toc": {
   "nav_menu": {},
   "number_sections": true,
   "sideBar": true,
   "skip_h1_title": false,
   "toc_cell": true,
   "toc_position": {},
   "toc_section_display": "block",
   "toc_window_display": false
  }
 },
 "nbformat": 4,
 "nbformat_minor": 2
}
