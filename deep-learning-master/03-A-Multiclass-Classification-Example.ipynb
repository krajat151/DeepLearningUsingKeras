{
 "cells": [
  {
   "cell_type": "markdown",
   "metadata": {
    "toc": true
   },
   "source": [
    "<h1>Table of Contents<span class=\"tocSkip\"></span></h1>\n",
    "<div class=\"toc\" style=\"margin-top: 1em;\"><ul class=\"toc-item\"><li><span><a href=\"#Goal\" data-toc-modified-id=\"Goal-1\"><span class=\"toc-item-num\">1&nbsp;&nbsp;</span>Goal</a></span></li><li><span><a href=\"#The-Reuters-dataset\" data-toc-modified-id=\"The-Reuters-dataset-2\"><span class=\"toc-item-num\">2&nbsp;&nbsp;</span>The Reuters dataset</a></span></li><li><span><a href=\"#Decoding-newswires-back-to-text\" data-toc-modified-id=\"Decoding-newswires-back-to-text-3\"><span class=\"toc-item-num\">3&nbsp;&nbsp;</span>Decoding newswires back to text</a></span></li><li><span><a href=\"#Preparing-the-data\" data-toc-modified-id=\"Preparing-the-data-4\"><span class=\"toc-item-num\">4&nbsp;&nbsp;</span>Preparing the data</a></span><ul class=\"toc-item\"><li><span><a href=\"#Encoding-the-data\" data-toc-modified-id=\"Encoding-the-data-4.1\"><span class=\"toc-item-num\">4.1&nbsp;&nbsp;</span>Encoding the data</a></span></li></ul></li><li><span><a href=\"#Building-the-network\" data-toc-modified-id=\"Building-the-network-5\"><span class=\"toc-item-num\">5&nbsp;&nbsp;</span>Building the network</a></span><ul class=\"toc-item\"><li><span><a href=\"#Model-definition\" data-toc-modified-id=\"Model-definition-5.1\"><span class=\"toc-item-num\">5.1&nbsp;&nbsp;</span>Model definition</a></span></li><li><span><a href=\"#Compiling-the-model\" data-toc-modified-id=\"Compiling-the-model-5.2\"><span class=\"toc-item-num\">5.2&nbsp;&nbsp;</span>Compiling the model</a></span></li></ul></li><li><span><a href=\"#Validating-our-approach\" data-toc-modified-id=\"Validating-our-approach-6\"><span class=\"toc-item-num\">6&nbsp;&nbsp;</span>Validating our approach</a></span></li><li><span><a href=\"#Training-the-model\" data-toc-modified-id=\"Training-the-model-7\"><span class=\"toc-item-num\">7&nbsp;&nbsp;</span>Training the model</a></span></li><li><span><a href=\"#Plotting-the-history\" data-toc-modified-id=\"Plotting-the-history-8\"><span class=\"toc-item-num\">8&nbsp;&nbsp;</span>Plotting the history</a></span></li><li><span><a href=\"#Retraining-the-model-from-scratch\" data-toc-modified-id=\"Retraining-the-model-from-scratch-9\"><span class=\"toc-item-num\">9&nbsp;&nbsp;</span>Retraining the model from scratch</a></span></li><li><span><a href=\"#Generating-predictions-on-new-data\" data-toc-modified-id=\"Generating-predictions-on-new-data-10\"><span class=\"toc-item-num\">10&nbsp;&nbsp;</span>Generating predictions on new data</a></span></li><li><span><a href=\"#A-different-way-to-handle-the-labels-and-the-loss\" data-toc-modified-id=\"A-different-way-to-handle-the-labels-and-the-loss-11\"><span class=\"toc-item-num\">11&nbsp;&nbsp;</span>A different way to handle the labels and the loss</a></span></li><li><span><a href=\"#The-importance-of-having-sufficient-large-intermediate-layers\" data-toc-modified-id=\"The-importance-of-having-sufficient-large-intermediate-layers-12\"><span class=\"toc-item-num\">12&nbsp;&nbsp;</span>The importance of having sufficient large intermediate layers</a></span></li><li><span><a href=\"#Further-Experiments\" data-toc-modified-id=\"Further-Experiments-13\"><span class=\"toc-item-num\">13&nbsp;&nbsp;</span>Further Experiments</a></span><ul class=\"toc-item\"><li><span><a href=\"#Using-larger-layers\" data-toc-modified-id=\"Using-larger-layers-13.1\"><span class=\"toc-item-num\">13.1&nbsp;&nbsp;</span>Using larger layers</a></span></li><li><span><a href=\"#Smaller-layers\" data-toc-modified-id=\"Smaller-layers-13.2\"><span class=\"toc-item-num\">13.2&nbsp;&nbsp;</span>Smaller layers</a></span></li></ul></li><li><span><a href=\"#A-single-hidden-layer\" data-toc-modified-id=\"A-single-hidden-layer-14\"><span class=\"toc-item-num\">14&nbsp;&nbsp;</span>A single hidden layer</a></span><ul class=\"toc-item\"><li><span><a href=\"#Three-hidden-layers\" data-toc-modified-id=\"Three-hidden-layers-14.1\"><span class=\"toc-item-num\">14.1&nbsp;&nbsp;</span>Three hidden layers</a></span></li></ul></li><li><span><a href=\"#Key-Takeaways\" data-toc-modified-id=\"Key-Takeaways-15\"><span class=\"toc-item-num\">15&nbsp;&nbsp;</span>Key Takeaways</a></span></li></ul></div>"
   ]
  },
  {
   "cell_type": "markdown",
   "metadata": {},
   "source": [
    "# Goal"
   ]
  },
  {
   "cell_type": "markdown",
   "metadata": {},
   "source": [
    "In this notebook, we will build a network to classify Reuters newswires into 46 mutually exclusive topics. This is an instance of **multi-class classification**; and because each data point should be classified into only one category, the problem is more specifically an instance of **single-label**, **multi-class classification**.\n",
    "\n",
    "If each data point could belong to multiple categories (in this case, topics), you would be facing a **multi-label, multi-class classification** problem. "
   ]
  },
  {
   "cell_type": "markdown",
   "metadata": {},
   "source": [
    "# The Reuters dataset"
   ]
  },
  {
   "cell_type": "markdown",
   "metadata": {},
   "source": [
    "- The **Reuters dataset**, a set of short newswires and their topics, published by Reuters in 1986.\n",
    "\n",
    "- It is a simple, widely used toy dataset for text classification.\n",
    "\n",
    "- There are 46 different topics; some topics are more represented than others, but each topic has at least 10 examples in the training set. "
   ]
  },
  {
   "cell_type": "code",
   "execution_count": 1,
   "metadata": {},
   "outputs": [],
   "source": [
    "from keras.datasets import reuters"
   ]
  },
  {
   "cell_type": "code",
   "execution_count": 2,
   "metadata": {},
   "outputs": [
    {
     "name": "stdout",
     "output_type": "stream",
     "text": [
      "Downloading data from https://s3.amazonaws.com/text-datasets/reuters.npz\n",
      "2113536/2110848 [==============================] - 7s 3us/step\n"
     ]
    }
   ],
   "source": [
    "(train_data, train_labels), (test_data, test_labels) = reuters.load_data(num_words=10000)"
   ]
  },
  {
   "cell_type": "markdown",
   "metadata": {},
   "source": [
    "The argument num_words=10000 means you will only keep the top 10,000 most frequently occuring words in the training data. Rare words will be discarded. This allows us to work with vector data of manageable size."
   ]
  },
  {
   "cell_type": "code",
   "execution_count": 3,
   "metadata": {},
   "outputs": [
    {
     "data": {
      "text/plain": [
       "8982"
      ]
     },
     "execution_count": 3,
     "metadata": {},
     "output_type": "execute_result"
    }
   ],
   "source": [
    "len(train_data)"
   ]
  },
  {
   "cell_type": "code",
   "execution_count": 4,
   "metadata": {},
   "outputs": [
    {
     "data": {
      "text/plain": [
       "2246"
      ]
     },
     "execution_count": 4,
     "metadata": {},
     "output_type": "execute_result"
    }
   ],
   "source": [
    "len(test_data)"
   ]
  },
  {
   "cell_type": "code",
   "execution_count": 6,
   "metadata": {},
   "outputs": [
    {
     "name": "stdout",
     "output_type": "stream",
     "text": [
      "[1, 2, 2, 8, 43, 10, 447, 5, 25, 207, 270, 5, 3095, 111, 16, 369, 186, 90, 67, 7, 89, 5, 19, 102, 6, 19, 124, 15, 90, 67, 84, 22, 482, 26, 7, 48, 4, 49, 8, 864, 39, 209, 154, 6, 151, 6, 83, 11, 15, 22, 155, 11, 15, 7, 48, 9, 4579, 1005, 504, 6, 258, 6, 272, 11, 15, 22, 134, 44, 11, 15, 16, 8, 197, 1245, 90, 67, 52, 29, 209, 30, 32, 132, 6, 109, 15, 17, 12]\n"
     ]
    }
   ],
   "source": [
    "print(train_data[0])"
   ]
  },
  {
   "cell_type": "markdown",
   "metadata": {},
   "source": [
    "# Decoding newswires back to text"
   ]
  },
  {
   "cell_type": "code",
   "execution_count": 7,
   "metadata": {},
   "outputs": [
    {
     "name": "stdout",
     "output_type": "stream",
     "text": [
      "Downloading data from https://s3.amazonaws.com/text-datasets/reuters_word_index.json\n",
      "557056/550378 [==============================] - 2s 3us/step\n"
     ]
    }
   ],
   "source": [
    "word_index = reuters.get_word_index()"
   ]
  },
  {
   "cell_type": "markdown",
   "metadata": {},
   "source": [
    "- word_index is a dictionary mapping words to an integer index"
   ]
  },
  {
   "cell_type": "code",
   "execution_count": 8,
   "metadata": {},
   "outputs": [],
   "source": [
    "reverse_word_index = dict(\n",
    "    [(value, key) for (key, value) in word_index.items()])"
   ]
  },
  {
   "cell_type": "markdown",
   "metadata": {},
   "source": [
    "- Reverses it, mapping integer indices to words."
   ]
  },
  {
   "cell_type": "code",
   "execution_count": 10,
   "metadata": {},
   "outputs": [],
   "source": [
    "decoded_newswire = ' '.join(\n",
    "    [reverse_word_index.get( i - 3, '?') for i in train_data[0]])"
   ]
  },
  {
   "cell_type": "code",
   "execution_count": 11,
   "metadata": {},
   "outputs": [
    {
     "data": {
      "text/plain": [
       "'? ? ? said as a result of its december acquisition of space co it expects earnings per share in 1987 of 1 15 to 1 30 dlrs per share up from 70 cts in 1986 the company said pretax net should rise to nine to 10 mln dlrs from six mln dlrs in 1986 and rental operation revenues to 19 to 22 mln dlrs from 12 5 mln dlrs it said cash flow per share this year should be 2 50 to three dlrs reuter 3'"
      ]
     },
     "execution_count": 11,
     "metadata": {},
     "output_type": "execute_result"
    }
   ],
   "source": [
    "decoded_newswire"
   ]
  },
  {
   "cell_type": "markdown",
   "metadata": {},
   "source": [
    "- Decodes the newswire. Note that the indices are offset by 3 because 0, 1, and 2 are reversed indices for padding, start of sequence, and unknown."
   ]
  },
  {
   "cell_type": "markdown",
   "metadata": {},
   "source": [
    "- The label associated with an example is an integer between 0 and 45--a topic index:"
   ]
  },
  {
   "cell_type": "code",
   "execution_count": 12,
   "metadata": {},
   "outputs": [
    {
     "data": {
      "text/plain": [
       "3"
      ]
     },
     "execution_count": 12,
     "metadata": {},
     "output_type": "execute_result"
    }
   ],
   "source": [
    "train_labels[10]"
   ]
  },
  {
   "cell_type": "markdown",
   "metadata": {},
   "source": [
    "# Preparing the data"
   ]
  },
  {
   "cell_type": "markdown",
   "metadata": {},
   "source": [
    "## Encoding the data"
   ]
  },
  {
   "cell_type": "code",
   "execution_count": 13,
   "metadata": {},
   "outputs": [],
   "source": [
    "import numpy as np"
   ]
  },
  {
   "cell_type": "code",
   "execution_count": 14,
   "metadata": {},
   "outputs": [],
   "source": [
    "def vectorize_sequences(sequences, dimension=10000):\n",
    "    # Create an all-zero matrix of shape (len(sequences), dimension)\n",
    "    results = np.zeros((len(sequences), dimension))\n",
    "    \n",
    "    for i, sequence in enumerate(sequences):\n",
    "        results[i, sequence] = 1. # Sets specific indices of results[i] to 1s\n",
    "    return results"
   ]
  },
  {
   "cell_type": "code",
   "execution_count": 15,
   "metadata": {},
   "outputs": [],
   "source": [
    "x_train = vectorize_sequences(train_data)  # vectorized training data\n",
    "x_test  = vectorize_sequences(test_data)   # vectorized testing data"
   ]
  },
  {
   "cell_type": "markdown",
   "metadata": {},
   "source": [
    "- To vectorize the labels, we will one-hot encod the labels by embedding each label as an all-zero vector with 1 in the place of the label index."
   ]
  },
  {
   "cell_type": "code",
   "execution_count": 16,
   "metadata": {},
   "outputs": [],
   "source": [
    "def to_one_hot(labels, dimension=46):\n",
    "    results = np.zeros((len(labels), dimension))\n",
    "    for i, label in enumerate(labels):\n",
    "        results[i, label] = 1.\n",
    "        \n",
    "    return results"
   ]
  },
  {
   "cell_type": "code",
   "execution_count": 17,
   "metadata": {},
   "outputs": [],
   "source": [
    "one_hot_train_labels = to_one_hot(train_labels)\n",
    "one_hot_test_labels = to_one_hot(test_labels)"
   ]
  },
  {
   "cell_type": "markdown",
   "metadata": {},
   "source": [
    "# Building the network"
   ]
  },
  {
   "cell_type": "markdown",
   "metadata": {},
   "source": [
    "- This topic-classification problem looks similar to the [movie-review](https://github.com/andersy005/deep-learning/blob/master/02-A-Binary-Classification-Example.ipynb) classification problem: in both cases, you are trying to classify short snippets of text. But there is a new constraint here: the number of output classes has gone from 2 to 46. The dimensionality of the output space is much larger. "
   ]
  },
  {
   "cell_type": "markdown",
   "metadata": {},
   "source": [
    "- In a stack of **Dense** layers like that you've been using, each layer can only access information present in the output of the previous layer. If one layer drops some information relevant to the classification problem, this information can never be recovered by later layers: each layer can potentially become an information bottleneck. \n",
    "\n",
    "- In the movie review example, we used 16-dimensional intermediate layers, but a 16-dimensional space may be too limited to learn to separate 46 different classes: such small layers may act as information bottlenecks, permanently dropping relevant information.\n",
    "\n",
    "- For this reason you will use larger layers. We will go with 64 units."
   ]
  },
  {
   "cell_type": "markdown",
   "metadata": {},
   "source": [
    "## Model definition"
   ]
  },
  {
   "cell_type": "code",
   "execution_count": 18,
   "metadata": {},
   "outputs": [],
   "source": [
    "from keras import models\n",
    "from keras import layers"
   ]
  },
  {
   "cell_type": "code",
   "execution_count": 19,
   "metadata": {},
   "outputs": [],
   "source": [
    "model = models.Sequential()\n",
    "model.add(layers.Dense(64, activation='relu', input_shape=(10000, )))\n",
    "model.add(layers.Dense(64, activation='relu'))\n",
    "model.add(layers.Dense(46, activation='softmax'))"
   ]
  },
  {
   "cell_type": "markdown",
   "metadata": {},
   "source": [
    "There are two other things we should note about this architecture:\n",
    " - We should the network with a **Dense** layer of size 46. This means for each input sample, the network will output a 46-dimensional vector. Each entry in this vector (each dimension) will encode a different output class.\n",
    " \n",
    " - The last layer uses a **softmax** activation. It means the network will output a **probability distribution** over the 46 different output classes--for every input sample, the network will produce a 46-dimensional output vector, where ```output[i]``` is the probability that the sample belongs to ```class[i]```. The 46 scores will sum to 1.\n",
    " \n",
    " \n",
    "The best loss function to use in this case is **```categorical_crossentropy```**. It measures the distance between two probability distributions: here, between the probability distribution output by the network and the true distribution of the labels. By minimizing the distance between these two distributions, we train the network to output something as close as possible to the true labels."
   ]
  },
  {
   "cell_type": "markdown",
   "metadata": {},
   "source": [
    "## Compiling the model"
   ]
  },
  {
   "cell_type": "code",
   "execution_count": 20,
   "metadata": {},
   "outputs": [],
   "source": [
    "model.compile(optimizer='rmsprop',\n",
    "              loss='categorical_crossentropy',\n",
    "              metrics=['accuracy'])"
   ]
  },
  {
   "cell_type": "markdown",
   "metadata": {},
   "source": [
    "# Validating our approach"
   ]
  },
  {
   "cell_type": "markdown",
   "metadata": {},
   "source": [
    "Let's set apart 1,000 samples in the training data to use as a validation set."
   ]
  },
  {
   "cell_type": "code",
   "execution_count": 21,
   "metadata": {},
   "outputs": [],
   "source": [
    "x_val = x_train[:1000]\n",
    "partial_x_train = x_train[1000:]"
   ]
  },
  {
   "cell_type": "code",
   "execution_count": 22,
   "metadata": {},
   "outputs": [],
   "source": [
    "y_val = one_hot_train_labels[:1000]\n",
    "partial_y_train = one_hot_train_labels[1000:]"
   ]
  },
  {
   "cell_type": "markdown",
   "metadata": {},
   "source": [
    "# Training the model"
   ]
  },
  {
   "cell_type": "code",
   "execution_count": 23,
   "metadata": {},
   "outputs": [
    {
     "name": "stdout",
     "output_type": "stream",
     "text": [
      "Train on 7982 samples, validate on 1000 samples\n",
      "Epoch 1/20\n",
      "7982/7982 [==============================] - 9s 1ms/step - loss: 2.5306 - acc: 0.4962 - val_loss: 1.7180 - val_acc: 0.6120\n",
      "Epoch 2/20\n",
      "7982/7982 [==============================] - 1s 107us/step - loss: 1.4430 - acc: 0.6878 - val_loss: 1.3435 - val_acc: 0.7060\n",
      "Epoch 3/20\n",
      "7982/7982 [==============================] - 1s 107us/step - loss: 1.0929 - acc: 0.7661 - val_loss: 1.1704 - val_acc: 0.7430\n",
      "Epoch 4/20\n",
      "7982/7982 [==============================] - 1s 98us/step - loss: 0.8682 - acc: 0.8166 - val_loss: 1.0788 - val_acc: 0.7600\n",
      "Epoch 5/20\n",
      "7982/7982 [==============================] - 1s 104us/step - loss: 0.7020 - acc: 0.8483 - val_loss: 0.9844 - val_acc: 0.7830\n",
      "Epoch 6/20\n",
      "7982/7982 [==============================] - 1s 99us/step - loss: 0.5666 - acc: 0.8796 - val_loss: 0.9401 - val_acc: 0.8030\n",
      "Epoch 7/20\n",
      "7982/7982 [==============================] - 1s 99us/step - loss: 0.4592 - acc: 0.9039 - val_loss: 0.9090 - val_acc: 0.8010\n",
      "Epoch 8/20\n",
      "7982/7982 [==============================] - 1s 109us/step - loss: 0.3704 - acc: 0.9226 - val_loss: 0.9359 - val_acc: 0.7890\n",
      "Epoch 9/20\n",
      "7982/7982 [==============================] - 1s 113us/step - loss: 0.3036 - acc: 0.9308 - val_loss: 0.8912 - val_acc: 0.8070\n",
      "Epoch 10/20\n",
      "7982/7982 [==============================] - 1s 104us/step - loss: 0.2539 - acc: 0.9412 - val_loss: 0.9059 - val_acc: 0.8110\n",
      "Epoch 11/20\n",
      "7982/7982 [==============================] - 1s 107us/step - loss: 0.2185 - acc: 0.9471 - val_loss: 0.9152 - val_acc: 0.8120\n",
      "Epoch 12/20\n",
      "7982/7982 [==============================] - 1s 102us/step - loss: 0.1872 - acc: 0.9511 - val_loss: 0.9045 - val_acc: 0.8150\n",
      "Epoch 13/20\n",
      "7982/7982 [==============================] - 1s 112us/step - loss: 0.1696 - acc: 0.9523 - val_loss: 0.9338 - val_acc: 0.8090\n",
      "Epoch 14/20\n",
      "7982/7982 [==============================] - 1s 108us/step - loss: 0.1531 - acc: 0.9554 - val_loss: 0.9644 - val_acc: 0.8090\n",
      "Epoch 15/20\n",
      "7982/7982 [==============================] - 1s 101us/step - loss: 0.1387 - acc: 0.9555 - val_loss: 0.9697 - val_acc: 0.8120\n",
      "Epoch 16/20\n",
      "7982/7982 [==============================] - 1s 104us/step - loss: 0.1310 - acc: 0.9562 - val_loss: 1.0280 - val_acc: 0.8040\n",
      "Epoch 17/20\n",
      "7982/7982 [==============================] - 1s 112us/step - loss: 0.1214 - acc: 0.9577 - val_loss: 1.0307 - val_acc: 0.7950\n",
      "Epoch 18/20\n",
      "7982/7982 [==============================] - 1s 101us/step - loss: 0.1193 - acc: 0.9582 - val_loss: 1.0454 - val_acc: 0.8080\n",
      "Epoch 19/20\n",
      "7982/7982 [==============================] - 1s 104us/step - loss: 0.1136 - acc: 0.9595 - val_loss: 1.1013 - val_acc: 0.7950\n",
      "Epoch 20/20\n",
      "7982/7982 [==============================] - 1s 116us/step - loss: 0.1104 - acc: 0.9595 - val_loss: 1.0710 - val_acc: 0.8020\n",
      "CPU times: user 14.4 s, sys: 3.56 s, total: 18 s\n",
      "Wall time: 25.4 s\n"
     ]
    }
   ],
   "source": [
    "%%time \n",
    "history = model.fit(partial_x_train,\n",
    "                    partial_y_train,\n",
    "                    epochs = 20,\n",
    "                    batch_size = 512,\n",
    "                    validation_data = (x_val, y_val))"
   ]
  },
  {
   "cell_type": "markdown",
   "metadata": {},
   "source": [
    "# Plotting the history "
   ]
  },
  {
   "cell_type": "code",
   "execution_count": 26,
   "metadata": {},
   "outputs": [],
   "source": [
    "import matplotlib.pyplot as plt \n",
    "%matplotlib inline"
   ]
  },
  {
   "cell_type": "code",
   "execution_count": 27,
   "metadata": {},
   "outputs": [],
   "source": [
    "def plot_history(history):\n",
    "    history_dict = history.history\n",
    "    loss_values = history_dict['loss']\n",
    "    val_loss_values = history_dict['val_loss']\n",
    "    acc_values = history_dict['acc']\n",
    "    val_acc_values = history_dict['val_acc']\n",
    "    epochs = range(1, len(acc_values) + 1)\n",
    "    \n",
    "    plt.plot(epochs, loss_values, 'b', label='Training loss')\n",
    "    plt.plot(epochs, val_loss_values, 'r', label='Validation loss')\n",
    "    plt.title('Training and Validation loss')\n",
    "    plt.xlabel('Epochs')\n",
    "    plt.ylabel('Loss')\n",
    "    plt.legend()\n",
    "    plt.show()\n",
    "    \n",
    "    plt.plot(epochs, acc_values, 'b', label='Training accuracy')\n",
    "    plt.plot(epochs, val_acc_values, 'r', label='Validation accuracy')\n",
    "    plt.title('Training and Validation accuracy')\n",
    "    plt.xlabel('Epochs')\n",
    "    plt.ylabel('Loss')\n",
    "    plt.legend()\n",
    "    plt.show()"
   ]
  },
  {
   "cell_type": "code",
   "execution_count": 28,
   "metadata": {},
   "outputs": [
    {
     "data": {
      "image/png": "[encoded data removed]",
      "text/plain": [
       "<matplotlib.figure.Figure at 0x7ff1456be4e0>"
      ]
     },
     "metadata": {},
     "output_type": "display_data"
    },
    {
     "data": {
      "image/png": "[encoded data removed]",
      "text/plain": [
       "<matplotlib.figure.Figure at 0x7ff14544e668>"
      ]
     },
     "metadata": {},
     "output_type": "display_data"
    }
   ],
   "source": [
    "plot_history(history)"
   ]
  },
  {
   "cell_type": "markdown",
   "metadata": {},
   "source": [
    "- The network begins to over-fit after nine epochs. Let's train a new network from scratch for nine epochs and then evaluate it on the test set."
   ]
  },
  {
   "cell_type": "markdown",
   "metadata": {},
   "source": [
    "# Retraining the model from scratch"
   ]
  },
  {
   "cell_type": "code",
   "execution_count": 29,
   "metadata": {},
   "outputs": [],
   "source": [
    "model = models.Sequential()\n",
    "model.add(layers.Dense(64, activation='relu', input_shape=(10000, )))\n",
    "model.add(layers.Dense(64, activation='relu'))\n",
    "model.add(layers.Dense(46, activation='softmax'))\n",
    "model.compile(optimizer='rmsprop',\n",
    "              loss='categorical_crossentropy',\n",
    "              metrics=['accuracy'])"
   ]
  },
  {
   "cell_type": "code",
   "execution_count": 33,
   "metadata": {},
   "outputs": [
    {
     "name": "stdout",
     "output_type": "stream",
     "text": [
      "Train on 7982 samples, validate on 1000 samples\n",
      "Epoch 1/10\n",
      "7982/7982 [==============================] - 1s 97us/step - loss: 0.2311 - acc: 0.9464 - val_loss: 0.9516 - val_acc: 0.8050\n",
      "Epoch 2/10\n",
      "7982/7982 [==============================] - 1s 99us/step - loss: 0.2027 - acc: 0.9478 - val_loss: 0.8984 - val_acc: 0.8210\n",
      "Epoch 3/10\n",
      "7982/7982 [==============================] - 1s 102us/step - loss: 0.1769 - acc: 0.9535 - val_loss: 0.9316 - val_acc: 0.8270\n",
      "Epoch 4/10\n",
      "7982/7982 [==============================] - 1s 107us/step - loss: 0.1632 - acc: 0.9534 - val_loss: 0.9390 - val_acc: 0.8100\n",
      "Epoch 5/10\n",
      "7982/7982 [==============================] - 1s 101us/step - loss: 0.1477 - acc: 0.9539 - val_loss: 0.9796 - val_acc: 0.8070\n",
      "Epoch 6/10\n",
      "7982/7982 [==============================] - 1s 98us/step - loss: 0.1386 - acc: 0.9574 - val_loss: 1.0245 - val_acc: 0.8070\n",
      "Epoch 7/10\n",
      "7982/7982 [==============================] - 1s 111us/step - loss: 0.1259 - acc: 0.9579 - val_loss: 1.0653 - val_acc: 0.7930\n",
      "Epoch 8/10\n",
      "7982/7982 [==============================] - 1s 102us/step - loss: 0.1279 - acc: 0.9557 - val_loss: 1.0543 - val_acc: 0.8000\n",
      "Epoch 9/10\n",
      "7982/7982 [==============================] - 1s 98us/step - loss: 0.1154 - acc: 0.9570 - val_loss: 1.0923 - val_acc: 0.8030\n",
      "Epoch 10/10\n",
      "7982/7982 [==============================] - 1s 100us/step - loss: 0.1161 - acc: 0.9583 - val_loss: 1.0422 - val_acc: 0.8120\n",
      "CPU times: user 6.52 s, sys: 1.54 s, total: 8.06 s\n",
      "Wall time: 8.12 s\n"
     ]
    }
   ],
   "source": [
    "%%time \n",
    "history = model.fit(partial_x_train,\n",
    "                    partial_y_train,\n",
    "                    epochs = 10,\n",
    "                    batch_size = 512,\n",
    "                    validation_data = (x_val, y_val))"
   ]
  },
  {
   "cell_type": "code",
   "execution_count": 34,
   "metadata": {},
   "outputs": [
    {
     "name": "stdout",
     "output_type": "stream",
     "text": [
      "2246/2246 [==============================] - 0s 161us/step\n"
     ]
    }
   ],
   "source": [
    "results = model.evaluate(x_test, one_hot_test_labels)"
   ]
  },
  {
   "cell_type": "code",
   "execution_count": 35,
   "metadata": {},
   "outputs": [
    {
     "data": {
      "text/plain": [
       "[1.217366324294813, 0.78673196796954792]"
      ]
     },
     "execution_count": 35,
     "metadata": {},
     "output_type": "execute_result"
    }
   ],
   "source": [
    "results"
   ]
  },
  {
   "cell_type": "markdown",
   "metadata": {},
   "source": [
    "This approach reaches an accuracy of ~80%. With a balanced binary classification problem, the accuracy reached by a purely random classifier would be 50%. But in this case it's closer to:"
   ]
  },
  {
   "cell_type": "code",
   "execution_count": 37,
   "metadata": {},
   "outputs": [],
   "source": [
    "import copy"
   ]
  },
  {
   "cell_type": "code",
   "execution_count": 38,
   "metadata": {},
   "outputs": [],
   "source": [
    "test_labels_copy = copy.copy(test_labels)"
   ]
  },
  {
   "cell_type": "code",
   "execution_count": 39,
   "metadata": {},
   "outputs": [],
   "source": [
    "np.random.shuffle(test_labels_copy)"
   ]
  },
  {
   "cell_type": "code",
   "execution_count": 40,
   "metadata": {},
   "outputs": [],
   "source": [
    "hits_array = np.array(test_labels) == np.array(test_labels_copy)"
   ]
  },
  {
   "cell_type": "code",
   "execution_count": 41,
   "metadata": {},
   "outputs": [
    {
     "data": {
      "text/plain": [
       "0.17809439002671415"
      ]
     },
     "execution_count": 41,
     "metadata": {},
     "output_type": "execute_result"
    }
   ],
   "source": [
    "float(np.sum(hits_array)) / len(test_labels)"
   ]
  },
  {
   "cell_type": "markdown",
   "metadata": {},
   "source": [
    "So, the results seem pretty good, at least when compared to a random baseline."
   ]
  },
  {
   "cell_type": "markdown",
   "metadata": {},
   "source": [
    "# Generating predictions on new data"
   ]
  },
  {
   "cell_type": "code",
   "execution_count": 42,
   "metadata": {},
   "outputs": [],
   "source": [
    "predictions = model.predict(x_test)"
   ]
  },
  {
   "cell_type": "code",
   "execution_count": 44,
   "metadata": {},
   "outputs": [
    {
     "data": {
      "text/plain": [
       "(46,)"
      ]
     },
     "execution_count": 44,
     "metadata": {},
     "output_type": "execute_result"
    }
   ],
   "source": [
    "predictions[0].shape"
   ]
  },
  {
   "cell_type": "code",
   "execution_count": 47,
   "metadata": {},
   "outputs": [
    {
     "name": "stdout",
     "output_type": "stream",
     "text": [
      "[  1.05324750e-06   2.77986442e-06   2.68680355e-06   7.40101039e-01\n",
      "   2.48536274e-01   2.73510686e-10   2.07514063e-07   1.71533738e-05\n",
      "   8.96962918e-03   4.20125247e-07   1.06829284e-05   5.12550294e-04\n",
      "   2.17220531e-06   4.97378733e-06   1.27273111e-07   8.54793072e-08\n",
      "   3.73038711e-05   8.30939734e-06   1.37933939e-05   2.71465105e-04\n",
      "   9.37520585e-04   3.30147013e-04   9.83379635e-08   7.92814990e-06\n",
      "   1.31494645e-07   6.25226767e-06   4.41695081e-09   6.50866525e-07\n",
      "   3.11909105e-07   2.28258541e-05   1.26772880e-04   3.37000643e-06\n",
      "   1.05909965e-06   3.89602405e-07   8.43572161e-06   4.69128327e-06\n",
      "   7.10990616e-06   1.24180388e-05   7.47526065e-06   5.72334238e-06\n",
      "   4.54097375e-07   2.00320010e-05   8.75890915e-09   1.35273729e-06\n",
      "   1.58273057e-08   2.16158742e-06]\n"
     ]
    }
   ],
   "source": [
    "print(predictions[0])"
   ]
  },
  {
   "cell_type": "code",
   "execution_count": 48,
   "metadata": {},
   "outputs": [
    {
     "name": "stdout",
     "output_type": "stream",
     "text": [
      "0.740101\n"
     ]
    }
   ],
   "source": [
    "print(max(predictions[0]))"
   ]
  },
  {
   "cell_type": "code",
   "execution_count": 49,
   "metadata": {},
   "outputs": [
    {
     "name": "stdout",
     "output_type": "stream",
     "text": [
      "2.73511e-10\n"
     ]
    }
   ],
   "source": [
    "print(min(predictions[0]))"
   ]
  },
  {
   "cell_type": "code",
   "execution_count": 51,
   "metadata": {},
   "outputs": [
    {
     "data": {
      "text/plain": [
       "1.0"
      ]
     },
     "execution_count": 51,
     "metadata": {},
     "output_type": "execute_result"
    }
   ],
   "source": [
    "np.sum(predictions[0])"
   ]
  },
  {
   "cell_type": "code",
   "execution_count": 52,
   "metadata": {},
   "outputs": [
    {
     "data": {
      "text/plain": [
       "3"
      ]
     },
     "execution_count": 52,
     "metadata": {},
     "output_type": "execute_result"
    }
   ],
   "source": [
    "np.argmax(predictions[0])"
   ]
  },
  {
   "cell_type": "markdown",
   "metadata": {},
   "source": [
    "# A different way to handle the labels and the loss"
   ]
  },
  {
   "cell_type": "markdown",
   "metadata": {},
   "source": [
    "The other way to encode the labels would be to cast them as an integer tensor:"
   ]
  },
  {
   "cell_type": "markdown",
   "metadata": {},
   "source": [
    "```python\n",
    "y_train = np.array(train_labels)\n",
    "y_test = np.array(test_labels)\n",
    "```"
   ]
  },
  {
   "cell_type": "markdown",
   "metadata": {},
   "source": [
    "The only thing this approach would change is the choice of the loss function. The loss function ```categorical_crossentropy```, expects the labels to follow a categorical encoding. With integer labels, we should use ```sparse_categorical_crossentropy```:"
   ]
  },
  {
   "cell_type": "markdown",
   "metadata": {},
   "source": [
    "```python\n",
    "model.compile(optimizer='rmsprop',\n",
    "              loss='sparse_categorical_crossentropy',\n",
    "              metrics=['accuracy'])\n",
    "```"
   ]
  },
  {
   "cell_type": "markdown",
   "metadata": {},
   "source": [
    "# The importance of having sufficient large intermediate layers"
   ]
  },
  {
   "cell_type": "markdown",
   "metadata": {},
   "source": [
    "We should avoid intermediate layers with many fewer than 46 hidden units. Let's see what happens when you introduce an information bottleneck by having intermediate layers that are significantly less than 46-dimensional:"
   ]
  },
  {
   "cell_type": "code",
   "execution_count": 53,
   "metadata": {},
   "outputs": [],
   "source": [
    "model = models.Sequential()\n",
    "model.add(layers.Dense(64, activation='relu', input_shape=(10000, )))\n",
    "model.add(layers.Dense(4, activation='relu'))\n",
    "model.add(layers.Dense(46, activation='softmax'))\n",
    "model.compile(optimizer='rmsprop',\n",
    "              loss='categorical_crossentropy',\n",
    "              metrics=['accuracy'])"
   ]
  },
  {
   "cell_type": "code",
   "execution_count": 54,
   "metadata": {},
   "outputs": [
    {
     "name": "stdout",
     "output_type": "stream",
     "text": [
      "Train on 7982 samples, validate on 1000 samples\n",
      "Epoch 1/20\n",
      "7982/7982 [==============================] - 2s 200us/step - loss: 2.6802 - acc: 0.4543 - val_loss: 1.9993 - val_acc: 0.5750\n",
      "Epoch 2/20\n",
      "7982/7982 [==============================] - 1s 174us/step - loss: 1.6919 - acc: 0.6189 - val_loss: 1.5595 - val_acc: 0.6390\n",
      "Epoch 3/20\n",
      "7982/7982 [==============================] - 1s 173us/step - loss: 1.3341 - acc: 0.6885 - val_loss: 1.3959 - val_acc: 0.7030\n",
      "Epoch 4/20\n",
      "7982/7982 [==============================] - 1s 181us/step - loss: 1.1463 - acc: 0.7273 - val_loss: 1.3345 - val_acc: 0.7080\n",
      "Epoch 5/20\n",
      "7982/7982 [==============================] - 1s 176us/step - loss: 1.0265 - acc: 0.7464 - val_loss: 1.3213 - val_acc: 0.7120\n",
      "Epoch 6/20\n",
      "7982/7982 [==============================] - 1s 173us/step - loss: 0.9340 - acc: 0.7625 - val_loss: 1.3112 - val_acc: 0.7240\n",
      "Epoch 7/20\n",
      "7982/7982 [==============================] - 1s 172us/step - loss: 0.8583 - acc: 0.7810 - val_loss: 1.3155 - val_acc: 0.7220\n",
      "Epoch 8/20\n",
      "7982/7982 [==============================] - 1s 175us/step - loss: 0.7964 - acc: 0.7908 - val_loss: 1.3486 - val_acc: 0.7130\n",
      "Epoch 9/20\n",
      "7982/7982 [==============================] - 1s 176us/step - loss: 0.7431 - acc: 0.8101 - val_loss: 1.3655 - val_acc: 0.7160\n",
      "Epoch 10/20\n",
      "7982/7982 [==============================] - 1s 178us/step - loss: 0.6984 - acc: 0.8180 - val_loss: 1.3853 - val_acc: 0.7270\n",
      "Epoch 11/20\n",
      "7982/7982 [==============================] - 1s 178us/step - loss: 0.6556 - acc: 0.8231 - val_loss: 1.4177 - val_acc: 0.7210\n",
      "Epoch 12/20\n",
      "7982/7982 [==============================] - 1s 172us/step - loss: 0.6188 - acc: 0.8320 - val_loss: 1.4571 - val_acc: 0.7250\n",
      "Epoch 13/20\n",
      "7982/7982 [==============================] - 1s 170us/step - loss: 0.5866 - acc: 0.8389 - val_loss: 1.4952 - val_acc: 0.7170\n",
      "Epoch 14/20\n",
      "7982/7982 [==============================] - 1s 176us/step - loss: 0.5560 - acc: 0.8459 - val_loss: 1.5126 - val_acc: 0.7230\n",
      "Epoch 15/20\n",
      "7982/7982 [==============================] - 1s 185us/step - loss: 0.5284 - acc: 0.8544 - val_loss: 1.5467 - val_acc: 0.7220\n",
      "Epoch 16/20\n",
      "7982/7982 [==============================] - 1s 174us/step - loss: 0.5058 - acc: 0.8609 - val_loss: 1.5766 - val_acc: 0.7200\n",
      "Epoch 17/20\n",
      "7982/7982 [==============================] - 1s 175us/step - loss: 0.4822 - acc: 0.8632 - val_loss: 1.6338 - val_acc: 0.7190\n",
      "Epoch 18/20\n",
      "7982/7982 [==============================] - 1s 170us/step - loss: 0.4647 - acc: 0.8733 - val_loss: 1.6732 - val_acc: 0.7200\n",
      "Epoch 19/20\n",
      "7982/7982 [==============================] - 1s 173us/step - loss: 0.4470 - acc: 0.8762 - val_loss: 1.7069 - val_acc: 0.7090\n",
      "Epoch 20/20\n",
      "7982/7982 [==============================] - 1s 174us/step - loss: 0.4307 - acc: 0.8804 - val_loss: 1.7296 - val_acc: 0.7150\n",
      "CPU times: user 25.9 s, sys: 2.05 s, total: 27.9 s\n",
      "Wall time: 28.4 s\n"
     ]
    }
   ],
   "source": [
    "%%time \n",
    "history = model.fit(partial_x_train,\n",
    "                    partial_y_train,\n",
    "                    epochs = 20,\n",
    "                    batch_size = 128,\n",
    "                    validation_data = (x_val, y_val))"
   ]
  },
  {
   "cell_type": "markdown",
   "metadata": {},
   "source": [
    "The network now peaks at ~71% validation accuracy, an 8% absolute drop. This drop is mostly due to the fact that we are trying to compress a lot of information (enough information to recover the separation hyperplanes of 46 classes) into an intermediate space that is too low-dimensional. This network is able to cram **most** of the necessary information into these eight-dimensional representations, but not all of it."
   ]
  },
  {
   "cell_type": "markdown",
   "metadata": {},
   "source": [
    "# Further Experiments"
   ]
  },
  {
   "cell_type": "markdown",
   "metadata": {},
   "source": [
    "## Using larger layers"
   ]
  },
  {
   "cell_type": "code",
   "execution_count": 55,
   "metadata": {},
   "outputs": [
    {
     "name": "stdout",
     "output_type": "stream",
     "text": [
      "Train on 7982 samples, validate on 1000 samples\n",
      "Epoch 1/9\n",
      "7982/7982 [==============================] - 2s 253us/step - loss: 1.5563 - acc: 0.6664 - val_loss: 1.0756 - val_acc: 0.7510\n",
      "Epoch 2/9\n",
      "7982/7982 [==============================] - 2s 230us/step - loss: 0.7588 - acc: 0.8343 - val_loss: 0.9218 - val_acc: 0.7970\n",
      "Epoch 3/9\n",
      "7982/7982 [==============================] - 2s 239us/step - loss: 0.4528 - acc: 0.8999 - val_loss: 0.8350 - val_acc: 0.8200\n",
      "Epoch 4/9\n",
      "7982/7982 [==============================] - 2s 228us/step - loss: 0.2972 - acc: 0.9340 - val_loss: 0.9507 - val_acc: 0.7900\n",
      "Epoch 5/9\n",
      "7982/7982 [==============================] - 2s 204us/step - loss: 0.2292 - acc: 0.9440 - val_loss: 0.8919 - val_acc: 0.8280\n",
      "Epoch 6/9\n",
      "7982/7982 [==============================] - 2s 217us/step - loss: 0.1911 - acc: 0.9521 - val_loss: 0.9485 - val_acc: 0.8100\n",
      "Epoch 7/9\n",
      "7982/7982 [==============================] - 2s 206us/step - loss: 0.1679 - acc: 0.9500 - val_loss: 0.9803 - val_acc: 0.8080\n",
      "Epoch 8/9\n",
      "7982/7982 [==============================] - 2s 198us/step - loss: 0.1523 - acc: 0.9541 - val_loss: 0.9554 - val_acc: 0.8110\n",
      "Epoch 9/9\n",
      "7982/7982 [==============================] - 2s 229us/step - loss: 0.1391 - acc: 0.9544 - val_loss: 1.0399 - val_acc: 0.8180\n"
     ]
    }
   ],
   "source": [
    "model = models.Sequential()\n",
    "model.add(layers.Dense(128, activation='relu', input_shape=(10000, )))\n",
    "model.add(layers.Dense(128, activation='relu'))\n",
    "model.add(layers.Dense(46, activation='softmax'))\n",
    "model.compile(optimizer='rmsprop',\n",
    "              loss='categorical_crossentropy',\n",
    "              metrics=['accuracy'])\n",
    "history = model.fit(partial_x_train,\n",
    "                    partial_y_train,\n",
    "                    epochs = 9,\n",
    "                    batch_size = 128,\n",
    "                    validation_data = (x_val, y_val))"
   ]
  },
  {
   "cell_type": "code",
   "execution_count": 56,
   "metadata": {},
   "outputs": [
    {
     "data": {
      "image/png": "[encoded data removed]",
      "text/plain": [
       "<matplotlib.figure.Figure at 0x7ff0e09a6e10>"
      ]
     },
     "metadata": {},
     "output_type": "display_data"
    },
    {
     "data": {
      "image/png": "[encoded data removed]",
      "text/plain": [
       "<matplotlib.figure.Figure at 0x7ff14538bda0>"
      ]
     },
     "metadata": {},
     "output_type": "display_data"
    }
   ],
   "source": [
    "plot_history(history)"
   ]
  },
  {
   "cell_type": "markdown",
   "metadata": {},
   "source": [
    "## Smaller layers"
   ]
  },
  {
   "cell_type": "code",
   "execution_count": 57,
   "metadata": {},
   "outputs": [
    {
     "name": "stdout",
     "output_type": "stream",
     "text": [
      "Train on 7982 samples, validate on 1000 samples\n",
      "Epoch 1/9\n",
      "7982/7982 [==============================] - 1s 174us/step - loss: 2.3654 - acc: 0.5470 - val_loss: 1.5079 - val_acc: 0.6660\n",
      "Epoch 2/9\n",
      "7982/7982 [==============================] - 1s 147us/step - loss: 1.2353 - acc: 0.7338 - val_loss: 1.1723 - val_acc: 0.7430\n",
      "Epoch 3/9\n",
      "7982/7982 [==============================] - 1s 146us/step - loss: 0.9138 - acc: 0.8026 - val_loss: 1.0299 - val_acc: 0.7730\n",
      "Epoch 4/9\n",
      "7982/7982 [==============================] - 1s 150us/step - loss: 0.7048 - acc: 0.8469 - val_loss: 0.9725 - val_acc: 0.7990\n",
      "Epoch 5/9\n",
      "7982/7982 [==============================] - 1s 155us/step - loss: 0.5478 - acc: 0.8822 - val_loss: 0.9317 - val_acc: 0.8100\n",
      "Epoch 6/9\n",
      "7982/7982 [==============================] - 1s 142us/step - loss: 0.4307 - acc: 0.9069 - val_loss: 0.9137 - val_acc: 0.8080\n",
      "Epoch 7/9\n",
      "7982/7982 [==============================] - 1s 147us/step - loss: 0.3443 - acc: 0.9236 - val_loss: 0.9191 - val_acc: 0.8200\n",
      "Epoch 8/9\n",
      "7982/7982 [==============================] - 1s 154us/step - loss: 0.2759 - acc: 0.9380 - val_loss: 0.9256 - val_acc: 0.8150\n",
      "Epoch 9/9\n",
      "7982/7982 [==============================] - 1s 147us/step - loss: 0.2365 - acc: 0.9439 - val_loss: 0.9760 - val_acc: 0.8030\n"
     ]
    }
   ],
   "source": [
    "model = models.Sequential()\n",
    "model.add(layers.Dense(32, activation='relu', input_shape=(10000, )))\n",
    "model.add(layers.Dense(32, activation='relu'))\n",
    "model.add(layers.Dense(46, activation='softmax'))\n",
    "model.compile(optimizer='rmsprop',\n",
    "              loss='categorical_crossentropy',\n",
    "              metrics=['accuracy'])\n",
    "history = model.fit(partial_x_train,\n",
    "                    partial_y_train,\n",
    "                    epochs = 9,\n",
    "                    batch_size = 128,\n",
    "                    validation_data = (x_val, y_val))"
   ]
  },
  {
   "cell_type": "code",
   "execution_count": 58,
   "metadata": {},
   "outputs": [
    {
     "data": {
      "image/png": "[encoded data removed]",
      "text/plain": [
       "<matplotlib.figure.Figure at 0x7ff0e01f8c88>"
      ]
     },
     "metadata": {},
     "output_type": "display_data"
    },
    {
     "data": {
      "image/png": "[encoded data removed]",
      "text/plain": [
       "<matplotlib.figure.Figure at 0x7ff0e01e99b0>"
      ]
     },
     "metadata": {},
     "output_type": "display_data"
    }
   ],
   "source": [
    "plot_history(history)"
   ]
  },
  {
   "cell_type": "markdown",
   "metadata": {},
   "source": [
    "# A single hidden layer"
   ]
  },
  {
   "cell_type": "code",
   "execution_count": 59,
   "metadata": {},
   "outputs": [
    {
     "name": "stdout",
     "output_type": "stream",
     "text": [
      "Train on 7982 samples, validate on 1000 samples\n",
      "Epoch 1/9\n",
      "7982/7982 [==============================] - 2s 244us/step - loss: 1.6128 - acc: 0.6770 - val_loss: 1.0957 - val_acc: 0.7630\n",
      "Epoch 2/9\n",
      "7982/7982 [==============================] - 2s 224us/step - loss: 0.7517 - acc: 0.8439 - val_loss: 0.8639 - val_acc: 0.8270\n",
      "Epoch 3/9\n",
      "7982/7982 [==============================] - 2s 229us/step - loss: 0.4650 - acc: 0.9037 - val_loss: 0.8105 - val_acc: 0.8370\n",
      "Epoch 4/9\n",
      "7982/7982 [==============================] - 2s 225us/step - loss: 0.3143 - acc: 0.9313 - val_loss: 0.8014 - val_acc: 0.8370\n",
      "Epoch 5/9\n",
      "7982/7982 [==============================] - 2s 223us/step - loss: 0.2358 - acc: 0.9446 - val_loss: 0.8449 - val_acc: 0.8230\n",
      "Epoch 6/9\n",
      "7982/7982 [==============================] - 2s 230us/step - loss: 0.1931 - acc: 0.9496 - val_loss: 0.8672 - val_acc: 0.8230\n",
      "Epoch 7/9\n",
      "7982/7982 [==============================] - 2s 227us/step - loss: 0.1661 - acc: 0.9534 - val_loss: 0.9013 - val_acc: 0.8160\n",
      "Epoch 8/9\n",
      "7982/7982 [==============================] - 2s 222us/step - loss: 0.1539 - acc: 0.9531 - val_loss: 0.9165 - val_acc: 0.8180\n",
      "Epoch 9/9\n",
      "7982/7982 [==============================] - 2s 227us/step - loss: 0.1450 - acc: 0.9560 - val_loss: 0.9508 - val_acc: 0.8130\n"
     ]
    },
    {
     "data": {
      "image/png": "[encoded data removed]",
      "text/plain": [
       "<matplotlib.figure.Figure at 0x7ff14549c828>"
      ]
     },
     "metadata": {},
     "output_type": "display_data"
    },
    {
     "data": {
      "image/png": "[encoded data removed]",
      "text/plain": [
       "<matplotlib.figure.Figure at 0x7ff0e09b7400>"
      ]
     },
     "metadata": {},
     "output_type": "display_data"
    }
   ],
   "source": [
    "model = models.Sequential()\n",
    "model.add(layers.Dense(128, activation='relu', input_shape=(10000, )))\n",
    "model.add(layers.Dense(46, activation='softmax'))\n",
    "model.compile(optimizer='rmsprop',\n",
    "              loss='categorical_crossentropy',\n",
    "              metrics=['accuracy'])\n",
    "history = model.fit(partial_x_train,\n",
    "                    partial_y_train,\n",
    "                    epochs = 9,\n",
    "                    batch_size = 128,\n",
    "                    validation_data = (x_val, y_val))\n",
    "plot_history(history)"
   ]
  },
  {
   "cell_type": "markdown",
   "metadata": {},
   "source": [
    "## Three hidden layers"
   ]
  },
  {
   "cell_type": "code",
   "execution_count": 60,
   "metadata": {},
   "outputs": [
    {
     "name": "stdout",
     "output_type": "stream",
     "text": [
      "Train on 7982 samples, validate on 1000 samples\n",
      "Epoch 1/9\n",
      "7982/7982 [==============================] - 2s 260us/step - loss: 1.6011 - acc: 0.6423 - val_loss: 1.1304 - val_acc: 0.7460\n",
      "Epoch 2/9\n",
      "7982/7982 [==============================] - 2s 231us/step - loss: 0.8166 - acc: 0.8162 - val_loss: 1.0151 - val_acc: 0.7680\n",
      "Epoch 3/9\n",
      "7982/7982 [==============================] - 2s 230us/step - loss: 0.4978 - acc: 0.8857 - val_loss: 0.9137 - val_acc: 0.8070\n",
      "Epoch 4/9\n",
      "7982/7982 [==============================] - 2s 237us/step - loss: 0.3194 - acc: 0.9303 - val_loss: 0.9449 - val_acc: 0.8090\n",
      "Epoch 5/9\n",
      "7982/7982 [==============================] - 2s 230us/step - loss: 0.2332 - acc: 0.9454 - val_loss: 0.9793 - val_acc: 0.8050\n",
      "Epoch 6/9\n",
      "7982/7982 [==============================] - 2s 234us/step - loss: 0.1937 - acc: 0.9508 - val_loss: 1.0254 - val_acc: 0.8080\n",
      "Epoch 7/9\n",
      "7982/7982 [==============================] - 2s 241us/step - loss: 0.1680 - acc: 0.9528 - val_loss: 1.0180 - val_acc: 0.7960\n",
      "Epoch 8/9\n",
      "7982/7982 [==============================] - 2s 244us/step - loss: 0.1508 - acc: 0.9546 - val_loss: 1.0945 - val_acc: 0.7930\n",
      "Epoch 9/9\n",
      "7982/7982 [==============================] - 2s 238us/step - loss: 0.1314 - acc: 0.9548 - val_loss: 1.1129 - val_acc: 0.8000\n"
     ]
    },
    {
     "data": {
      "image/png": "[encoded data removed]",
      "text/plain": [
       "<matplotlib.figure.Figure at 0x7ff0bd3746d8>"
      ]
     },
     "metadata": {},
     "output_type": "display_data"
    },
    {
     "data": {
      "image/png": "[encoded data removed]",
      "text/plain": [
       "<matplotlib.figure.Figure at 0x7ff0bd38a160>"
      ]
     },
     "metadata": {},
     "output_type": "display_data"
    }
   ],
   "source": [
    "model = models.Sequential()\n",
    "model.add(layers.Dense(128, activation='relu', input_shape=(10000, )))\n",
    "model.add(layers.Dense(128, activation='relu'))\n",
    "model.add(layers.Dense(128, activation='relu'))\n",
    "model.add(layers.Dense(46, activation='softmax'))\n",
    "model.compile(optimizer='rmsprop',\n",
    "              loss='categorical_crossentropy',\n",
    "              metrics=['accuracy'])\n",
    "history = model.fit(partial_x_train,\n",
    "                    partial_y_train,\n",
    "                    epochs = 9,\n",
    "                    batch_size = 128,\n",
    "                    validation_data = (x_val, y_val))\n",
    "plot_history(history)"
   ]
  },
  {
   "cell_type": "markdown",
   "metadata": {},
   "source": [
    "# Key Takeaways"
   ]
  },
  {
   "cell_type": "markdown",
   "metadata": {},
   "source": [
    "- If you’re trying to classify data points among N classes, your network should end with a Dense layer of size N.\n",
    "- In a single-label, multiclass classification problem, your network should end with a softmax activation so that it will output a probability distribution over the N output classes.\n",
    "- Categorical crossentropy is almost always the loss function you should use for such problems. It minimizes the distance between the probability distributions output by the network and the true distribution of the targets.\n",
    "- There are two ways to handle labels in multiclass classification:\n",
    "   - Encoding the labels via categorical encoding (also known as one-hot encoding) and using categorical_crossentropy as a loss function\n",
    "   - Encoding the labels as integers and using the sparse_categorical_-crossentropy loss function\n",
    "- If you need to classify data into a large number of categories, you should avoid creating information bottlenecks in your network due to intermediate layers that are too small."
   ]
  },
  {
   "cell_type": "code",
   "execution_count": 61,
   "metadata": {},
   "outputs": [
    {
     "data": {
      "application/json": {
       "Software versions": [
        {
         "module": "Python",
         "version": "3.6.3 64bit [GCC 4.8.2 20140120 (Red Hat 4.8.2-15)]"
        },
        {
         "module": "IPython",
         "version": "6.2.1"
        },
        {
         "module": "OS",
         "version": "Linux 4.4.0 53 generic x86_64 with debian stretch sid"
        },
        {
         "module": "keras",
         "version": "2.0.9"
        },
        {
         "module": "numpy",
         "version": "1.12.1"
        },
        {
         "module": "matplotlib",
         "version": "2.0.0"
        }
       ]
      },
      "text/html": [
       "<table><tr><th>Software</th><th>Version</th></tr><tr><td>Python</td><td>3.6.3 64bit [GCC 4.8.2 20140120 (Red Hat 4.8.2-15)]</td></tr><tr><td>IPython</td><td>6.2.1</td></tr><tr><td>OS</td><td>Linux 4.4.0 53 generic x86_64 with debian stretch sid</td></tr><tr><td>keras</td><td>2.0.9</td></tr><tr><td>numpy</td><td>1.12.1</td></tr><tr><td>matplotlib</td><td>2.0.0</td></tr><tr><td colspan='2'>Sun Dec 17 18:16:20 2017 CST</td></tr></table>"
      ],
      "text/latex": [
       "\\begin{tabular}{|l|l|}\\hline\n",
       "{\\bf Software} & {\\bf Version} \\\\ \\hline\\hline\n",
       "Python & 3.6.3 64bit [GCC 4.8.2 20140120 (Red Hat 4.8.2-15)] \\\\ \\hline\n",
       "IPython & 6.2.1 \\\\ \\hline\n",
       "OS & Linux 4.4.0 53 generic x86\\_64 with debian stretch sid \\\\ \\hline\n",
       "keras & 2.0.9 \\\\ \\hline\n",
       "numpy & 1.12.1 \\\\ \\hline\n",
       "matplotlib & 2.0.0 \\\\ \\hline\n",
       "\\hline \\multicolumn{2}{|l|}{Sun Dec 17 18:16:20 2017 CST} \\\\ \\hline\n",
       "\\end{tabular}\n"
      ],
      "text/plain": [
       "Software versions\n",
       "Python 3.6.3 64bit [GCC 4.8.2 20140120 (Red Hat 4.8.2-15)]\n",
       "IPython 6.2.1\n",
       "OS Linux 4.4.0 53 generic x86_64 with debian stretch sid\n",
       "keras 2.0.9\n",
       "numpy 1.12.1\n",
       "matplotlib 2.0.0\n",
       "Sun Dec 17 18:16:20 2017 CST"
      ]
     },
     "execution_count": 61,
     "metadata": {},
     "output_type": "execute_result"
    }
   ],
   "source": [
    "%load_ext version_information\n",
    "%version_information keras, numpy, matplotlib"
   ]
  }
 ],
 "metadata": {
  "kernelspec": {
   "display_name": "Python [conda env:dl-gpu]",
   "language": "python",
   "name": "conda-env-dl-gpu-py"
  },
  "language_info": {
   "codemirror_mode": {
    "name": "ipython",
    "version": 3
   },
   "file_extension": ".py",
   "mimetype": "text/x-python",
   "name": "python",
   "nbconvert_exporter": "python",
   "pygments_lexer": "ipython3",
   "version": "3.6.3"
  },
  "toc": {
   "nav_menu": {},
   "number_sections": true,
   "sideBar": true,
   "skip_h1_title": false,
   "toc_cell": true,
   "toc_position": {},
   "toc_section_display": "block",
   "toc_window_display": false
  }
 },
 "nbformat": 4,
 "nbformat_minor": 2
}
